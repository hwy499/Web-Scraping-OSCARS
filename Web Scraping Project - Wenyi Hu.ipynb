{
 "cells": [
  {
   "cell_type": "markdown",
   "metadata": {},
   "source": [
    "<center>\n",
    "    <img src=\"https://www.brandingmag.com/wp-content/uploads/2013/12/the-academy-oscars-new-logo-1.jpg\" width='30%'> \n",
    "</center>\n",
    "\n",
    "----------\n",
    "\n",
    "<h1 align=\"center\"> Webscraping Project - OSCARS</h1>\n",
    "<br>\n",
    "<center align=\"left\"> <font size='4'>  Developed by: </font><font size='4' color='#33AAFBD'>Wenyi Hu</font></center>\n",
    "<br>\n",
    "\n",
    "----------"
   ]
  },
  {
   "cell_type": "code",
   "execution_count": 236,
   "metadata": {},
   "outputs": [
    {
     "data": {
      "text/html": [
       "        <script type=\"text/javascript\">\n",
       "        window.PlotlyConfig = {MathJaxConfig: 'local'};\n",
       "        if (window.MathJax && window.MathJax.Hub && window.MathJax.Hub.Config) {window.MathJax.Hub.Config({SVG: {font: \"STIX-Web\"}});}\n",
       "        if (typeof require !== 'undefined') {\n",
       "        require.undef(\"plotly\");\n",
       "        requirejs.config({\n",
       "            paths: {\n",
       "                'plotly': ['https://cdn.plot.ly/plotly-2.12.1.min']\n",
       "            }\n",
       "        });\n",
       "        require(['plotly'], function(Plotly) {\n",
       "            window._Plotly = Plotly;\n",
       "        });\n",
       "        }\n",
       "        </script>\n",
       "        "
      ]
     },
     "metadata": {},
     "output_type": "display_data"
    }
   ],
   "source": [
    "# imports\n",
    "\n",
    "from bs4 import BeautifulSoup # For HTML parsing\n",
    "from time import sleep # To prevent overwhelming the server between connections\n",
    "from collections import Counter # Keep track of our term counts\n",
    "\n",
    "import random\n",
    "import requests # Website connections\n",
    "import pandas as pd # For converting results to a dataframe and bar chart plots\n",
    "import numpy as np\n",
    "import json # For parsing json\n",
    "import seaborn as sns\n",
    "sns.set(style=\"ticks\", color_codes=True)\n",
    "import matplotlib.pyplot as plt\n",
    "%matplotlib inline\n",
    "\n",
    "import plotly.express as px\n",
    "import plotly.offline as py\n",
    "import plotly.graph_objs as go \n",
    "\n",
    "py.init_notebook_mode(connected=True)"
   ]
  },
  {
   "cell_type": "markdown",
   "metadata": {},
   "source": [
    "## $\\Delta$ Awards Categories in Different Years"
   ]
  },
  {
   "cell_type": "code",
   "execution_count": 2,
   "metadata": {},
   "outputs": [],
   "source": [
    "# define a function to get the pages in different years\n",
    "def get_page(year):\n",
    "    page_url = f'https://www.oscars.org/oscars/ceremonies/{year}'\n",
    "    result = requests.get(page_url)\n",
    "    soup = BeautifulSoup(result.content)\n",
    "    return soup\n",
    "\n",
    "# scrape all award categories in different years from 1929 to 2022\n",
    "header_dict={}\n",
    "for year in range(1929,2023):\n",
    "    \n",
    "    headers=[]\n",
    "    sleep(random.randint(1,5))    \n",
    "    contents= get_page(year).find('div', id='quicktabs-tabpage-honorees-0').find('div',class_='view-content').findChildren(recursive=False)\n",
    "    \n",
    "    # get all possible award categories from webpage\n",
    "    for x in contents:\n",
    "        try:\n",
    "            header = x.find('div',class_='view-grouping-header').getText()\n",
    "            headers.append(header)\n",
    "        except:\n",
    "            headers.append('error!')\n",
    "            \n",
    "    \n",
    "    # create a dictionary with {key:value} == {year:[category list]}\n",
    "    header_dict[year]=headers\n",
    "\n",
    "# save data as dataframe and save in a .csv file\n",
    "category_df = pd.DataFrame(dict([(k,pd.Series(v)) for k,v in header_dict.items()]))\n",
    "category_df.to_csv('award_category.csv')"
   ]
  },
  {
   "cell_type": "markdown",
   "metadata": {},
   "source": [
    "## $\\Delta$ Ceremony Information in Different Years\n"
   ]
  },
  {
   "cell_type": "code",
   "execution_count": 3,
   "metadata": {},
   "outputs": [],
   "source": [
    "# define a function to get the pages in different years\n",
    "def get_page(year):\n",
    "    page_url = f'https://www.oscars.org/oscars/ceremonies/{year}'\n",
    "    result = requests.get(page_url)\n",
    "    soup = BeautifulSoup(result.content)\n",
    "    return soup\n",
    "\n",
    "# scrape all ceremony information in different years from 1929 to 2022\n",
    "year_list = []\n",
    "ordinal_number_list = []\n",
    "location_list = []\n",
    "date_list = []\n",
    "release_list = []\n",
    "for year in range(1929,2023):\n",
    "    \n",
    "    sleep(random.randint(1,5))  \n",
    "\n",
    "    title = get_page(year).find('div', class_='views-field views-field-title').get_text()\n",
    "    \n",
    "    ordinal_number = title.split('|')[0].split()[1]\n",
    "    ordinal_number_list.append(ordinal_number)\n",
    "    \n",
    "    year = title.split('|')[1].strip()\n",
    "    year_list.append(year)\n",
    "   \n",
    "    location = get_page(year).find('div',class_='views-field views-field-field-location-name').get_text().strip()\n",
    "    location_list.append(location)\n",
    "    \n",
    "    date = get_page(year).find('div',class_='views-field views-field-field-date').get_text().strip()\n",
    "    date_list.append(date)\n",
    "\n",
    "    release = get_page(year).find('div',class_='views-field views-field-field-honoring-line').get_text()\n",
    "    release_list.append(release)\n",
    "\n",
    "# convert list to pd.Series\n",
    "Ordinal=pd.Series(ordinal_number_list)\n",
    "Year = pd.Series(year_list)\n",
    "Location = pd.Series(location_list)\n",
    "Date = pd.Series(date_list)\n",
    "Release = pd.Series(release_list)\n",
    "\n",
    "# concate multiple series to form a dataframe and save as .csv\n",
    "df = pd.concat({'Ordinal':Ordinal,'Year':Year,'Location':Location,'Date':Date,'Release':Release}, axis = 1).set_index('Ordinal')\n",
    "df.to_csv('ceromony_information.csv')     "
   ]
  },
  {
   "cell_type": "markdown",
   "metadata": {},
   "source": [
    "## $\\Delta$ Academy Presidents with Year Range"
   ]
  },
  {
   "cell_type": "code",
   "execution_count": 4,
   "metadata": {},
   "outputs": [],
   "source": [
    "academy_story_page = 'https://www.oscars.org/academy-story'\n",
    "result = requests.get(academy_story_page)\n",
    "soup = BeautifulSoup(result.content)\n",
    "\n",
    "group_list = soup.find('div', class_ = 'l-region l-region--content').find('div',class_='view-content').findChildren(recursive=False)\n",
    "\n",
    "name_list = []\n",
    "start_list = []\n",
    "end_list =[]\n",
    "# for loop to obtain the academy \n",
    "for group in group_list:\n",
    "    try:\n",
    "        content = group.find('div',class_='field-info').get_text('from').replace('–','-').replace(',','from').split('from')\n",
    "        # filter out useless information\n",
    "        for x in content:\n",
    "            if x.strip() ==  'Academy President':\n",
    "                content.remove(x)\n",
    "            elif x.strip() == 'died':\n",
    "                content.remove(x)\n",
    "        \n",
    "        # separete time and name into different lists\n",
    "        for y in content:\n",
    "            if '-' in y:\n",
    "                start_list.append(y.split('-')[0].strip())\n",
    "                end_list.append(y.split('-')[1].strip())\n",
    "            else:\n",
    "                name_list.append(y.strip())\n",
    "\n",
    "    except:\n",
    "        start_list.append('error')\n",
    "        end_list.append('error')\n",
    "        name_list.append('error')\n",
    "    \n",
    "    # remove 'error' from the content list\n",
    "    [start_list.remove(t) for t in start_list if t =='error']\n",
    "    [end_list.remove(t) for t in end_list if t =='error']\n",
    "    [name_list.remove(n) for n in name_list if n =='error']\n",
    "    \n",
    "\n",
    "# convert list to pd.Series\n",
    "Start = pd.Series(start_list)\n",
    "End = pd.Series(end_list)\n",
    "Name = pd.Series(name_list)\n",
    "\n",
    "df=pd.concat({'Name':Name,'Start Time':Start,'End Time':End},axis=1)\n",
    "df.to_csv('academy_president.csv')"
   ]
  },
  {
   "cell_type": "markdown",
   "metadata": {},
   "source": [
    "## $\\Delta$ Awards Information in Different Years"
   ]
  },
  {
   "cell_type": "code",
   "execution_count": 19,
   "metadata": {},
   "outputs": [],
   "source": [
    "def get_page(year):\n",
    "    page_url = f'https://www.oscars.org/oscars/ceremonies/{year}'\n",
    "    result = requests.get(page_url)\n",
    "    soup = BeautifulSoup(result.content)\n",
    "    return soup\n",
    "categories = []\n",
    "field1 = []\n",
    "field2 = []\n",
    "status = []\n",
    "award = []\n",
    "year = []\n",
    "data = {}\n",
    "for yr in range(1929,2023):\n",
    "    groups = get_page(yr).find('div', class_='view-display-id-osc_honoree_by_cat').find('div', class_='view-content').findChildren(recursive=False)\n",
    "    \n",
    "    for group in groups:\n",
    "            \n",
    "        # get the nominees information from field 1 (f1) and field 2 (f2) in the website\n",
    "        # return a list of information in field1 and field2\n",
    "        f1 = group.find('div', class_='view-grouping-content').find_all('h4',class_='field-content')\n",
    "        for x in f1:\n",
    "            field1.append(x.text.strip())\n",
    "            \n",
    "        f2 = group.find('div', class_='view-grouping-content').find_all('div', class_='views-field views-field-title')\n",
    "        for x in f2:\n",
    "            field2.append(x.text.strip())\n",
    "        \n",
    "        category = group.find('div', class_='view-grouping-header').getText().strip()\n",
    "        # get all award categories without duplicates\n",
    "        if category not in categories:\n",
    "            categories.append(category)\n",
    "            categories.sort()\n",
    "        # append the award into the award list\n",
    "        for i in range(0,len(f1)): # len(f1) is the total number of winners and nominees\n",
    "            award.append(category)\n",
    "        \n",
    "        # find the number of winners and nominees in an award\n",
    "        content = group.find('div', class_='view-grouping-content').findChildren(recursive=False)\n",
    "        lst = []\n",
    "        for con in content:\n",
    "            lst.append(con.text)\n",
    "            if 'Nominees' in lst:\n",
    "                for i in range(0,len(lst)):\n",
    "                    if lst[i] == 'Nominees':\n",
    "                        num_of_winners = i-1\n",
    "                num_of_nominees = len(lst)-num_of_winners-2\n",
    "            else:\n",
    "                num_of_winners = len(lst) -1\n",
    "                num_of_nominees = 0\n",
    "\n",
    "\n",
    "        # append the status (winner or nominee) into the status list\n",
    "        for i in range(0,num_of_winners):\n",
    "            status.append('winner')\n",
    "        for i in range(0,num_of_nominees):   \n",
    "            status.append('nominee')\n",
    "        \n",
    "        # append the year into the year list\n",
    "        for i in range(0,len(f1)): # len(f1) is the total number of winners and nominees\n",
    "            year.append(yr)\n",
    "data={'info1':field1, 'info2':field2, 'status':status, 'award':award, 'year':year}            \n",
    "df=pd.DataFrame(data)\n",
    "df.to_csv('award_info.csv')"
   ]
  },
  {
   "cell_type": "markdown",
   "metadata": {},
   "source": [
    "---\n",
    "## $\\Delta$ Analysis\n"
   ]
  },
  {
   "cell_type": "markdown",
   "metadata": {},
   "source": [
    "### Academy President History"
   ]
  },
  {
   "cell_type": "code",
   "execution_count": 108,
   "metadata": {},
   "outputs": [
    {
     "data": {
      "text/html": [
       "<div>\n",
       "<style scoped>\n",
       "    .dataframe tbody tr th:only-of-type {\n",
       "        vertical-align: middle;\n",
       "    }\n",
       "\n",
       "    .dataframe tbody tr th {\n",
       "        vertical-align: top;\n",
       "    }\n",
       "\n",
       "    .dataframe thead th {\n",
       "        text-align: right;\n",
       "    }\n",
       "</style>\n",
       "<table border=\"1\" class=\"dataframe\">\n",
       "  <thead>\n",
       "    <tr style=\"text-align: right;\">\n",
       "      <th></th>\n",
       "      <th>Name</th>\n",
       "      <th>Start Time</th>\n",
       "      <th>End Time</th>\n",
       "    </tr>\n",
       "  </thead>\n",
       "  <tbody>\n",
       "    <tr>\n",
       "      <th>0</th>\n",
       "      <td>Douglas Fairbanks</td>\n",
       "      <td>1927</td>\n",
       "      <td>1929</td>\n",
       "    </tr>\n",
       "    <tr>\n",
       "      <th>1</th>\n",
       "      <td>William C. DeMille</td>\n",
       "      <td>1929</td>\n",
       "      <td>1931</td>\n",
       "    </tr>\n",
       "    <tr>\n",
       "      <th>2</th>\n",
       "      <td>M.C. Levee</td>\n",
       "      <td>1931</td>\n",
       "      <td>1932</td>\n",
       "    </tr>\n",
       "    <tr>\n",
       "      <th>3</th>\n",
       "      <td>Conrad Nagel</td>\n",
       "      <td>1932</td>\n",
       "      <td>1933</td>\n",
       "    </tr>\n",
       "    <tr>\n",
       "      <th>4</th>\n",
       "      <td>J. Theodore Reed</td>\n",
       "      <td>1933</td>\n",
       "      <td>1934</td>\n",
       "    </tr>\n",
       "    <tr>\n",
       "      <th>5</th>\n",
       "      <td>Frank Lloyd</td>\n",
       "      <td>1934</td>\n",
       "      <td>1935</td>\n",
       "    </tr>\n",
       "    <tr>\n",
       "      <th>6</th>\n",
       "      <td>Frank Capra</td>\n",
       "      <td>1935</td>\n",
       "      <td>1939</td>\n",
       "    </tr>\n",
       "    <tr>\n",
       "      <th>7</th>\n",
       "      <td>Walter Wanger</td>\n",
       "      <td>1939</td>\n",
       "      <td>1941</td>\n",
       "    </tr>\n",
       "    <tr>\n",
       "      <th>8</th>\n",
       "      <td>Walter Wanger</td>\n",
       "      <td>1941</td>\n",
       "      <td>1945</td>\n",
       "    </tr>\n",
       "    <tr>\n",
       "      <th>9</th>\n",
       "      <td>Jean Hersholt</td>\n",
       "      <td>1945</td>\n",
       "      <td>1949</td>\n",
       "    </tr>\n",
       "    <tr>\n",
       "      <th>10</th>\n",
       "      <td>Charles Brackett</td>\n",
       "      <td>1949</td>\n",
       "      <td>1955</td>\n",
       "    </tr>\n",
       "    <tr>\n",
       "      <th>11</th>\n",
       "      <td>George Seaton</td>\n",
       "      <td>1955</td>\n",
       "      <td>1958</td>\n",
       "    </tr>\n",
       "    <tr>\n",
       "      <th>12</th>\n",
       "      <td>George Stevens</td>\n",
       "      <td>1958</td>\n",
       "      <td>1959</td>\n",
       "    </tr>\n",
       "    <tr>\n",
       "      <th>13</th>\n",
       "      <td>B. B. Kahane</td>\n",
       "      <td>1959</td>\n",
       "      <td>1960</td>\n",
       "    </tr>\n",
       "    <tr>\n",
       "      <th>14</th>\n",
       "      <td>Valentine Davies</td>\n",
       "      <td>1960</td>\n",
       "      <td>1961</td>\n",
       "    </tr>\n",
       "    <tr>\n",
       "      <th>15</th>\n",
       "      <td>Wendell Corey</td>\n",
       "      <td>1961</td>\n",
       "      <td>1963</td>\n",
       "    </tr>\n",
       "    <tr>\n",
       "      <th>16</th>\n",
       "      <td>Arthur Freed</td>\n",
       "      <td>1963</td>\n",
       "      <td>1967</td>\n",
       "    </tr>\n",
       "    <tr>\n",
       "      <th>17</th>\n",
       "      <td>Gregory Peck</td>\n",
       "      <td>1967</td>\n",
       "      <td>1970</td>\n",
       "    </tr>\n",
       "    <tr>\n",
       "      <th>18</th>\n",
       "      <td>Daniel Taradash</td>\n",
       "      <td>1970</td>\n",
       "      <td>1973</td>\n",
       "    </tr>\n",
       "    <tr>\n",
       "      <th>19</th>\n",
       "      <td>Walter Mirisch</td>\n",
       "      <td>1973</td>\n",
       "      <td>1977</td>\n",
       "    </tr>\n",
       "    <tr>\n",
       "      <th>20</th>\n",
       "      <td>Howard W. Koch</td>\n",
       "      <td>1977</td>\n",
       "      <td>1979</td>\n",
       "    </tr>\n",
       "    <tr>\n",
       "      <th>21</th>\n",
       "      <td>Fay Kanin</td>\n",
       "      <td>1979</td>\n",
       "      <td>1983</td>\n",
       "    </tr>\n",
       "    <tr>\n",
       "      <th>22</th>\n",
       "      <td>Gene Allen</td>\n",
       "      <td>1983</td>\n",
       "      <td>1985</td>\n",
       "    </tr>\n",
       "    <tr>\n",
       "      <th>23</th>\n",
       "      <td>Robert Wise</td>\n",
       "      <td>1985</td>\n",
       "      <td>1988</td>\n",
       "    </tr>\n",
       "    <tr>\n",
       "      <th>24</th>\n",
       "      <td>Richard Kahn</td>\n",
       "      <td>1988</td>\n",
       "      <td>1989</td>\n",
       "    </tr>\n",
       "    <tr>\n",
       "      <th>25</th>\n",
       "      <td>Karl Malden</td>\n",
       "      <td>1989</td>\n",
       "      <td>1992</td>\n",
       "    </tr>\n",
       "    <tr>\n",
       "      <th>26</th>\n",
       "      <td>Robert Rehme</td>\n",
       "      <td>1992</td>\n",
       "      <td>1993</td>\n",
       "    </tr>\n",
       "    <tr>\n",
       "      <th>27</th>\n",
       "      <td>Arthur Hiller</td>\n",
       "      <td>1993</td>\n",
       "      <td>1997</td>\n",
       "    </tr>\n",
       "    <tr>\n",
       "      <th>28</th>\n",
       "      <td>Robert Rehme</td>\n",
       "      <td>1997</td>\n",
       "      <td>2001</td>\n",
       "    </tr>\n",
       "    <tr>\n",
       "      <th>29</th>\n",
       "      <td>Frank R. Pierson</td>\n",
       "      <td>2001</td>\n",
       "      <td>2005</td>\n",
       "    </tr>\n",
       "    <tr>\n",
       "      <th>30</th>\n",
       "      <td>Sid Ganis</td>\n",
       "      <td>2005</td>\n",
       "      <td>2009</td>\n",
       "    </tr>\n",
       "    <tr>\n",
       "      <th>31</th>\n",
       "      <td>Tom Sherak</td>\n",
       "      <td>2009</td>\n",
       "      <td>2012</td>\n",
       "    </tr>\n",
       "    <tr>\n",
       "      <th>32</th>\n",
       "      <td>Hawk Koch</td>\n",
       "      <td>2012</td>\n",
       "      <td>2013</td>\n",
       "    </tr>\n",
       "    <tr>\n",
       "      <th>33</th>\n",
       "      <td>Cheryl Boone Isaacs</td>\n",
       "      <td>2013</td>\n",
       "      <td>2017</td>\n",
       "    </tr>\n",
       "    <tr>\n",
       "      <th>34</th>\n",
       "      <td>John Bailey</td>\n",
       "      <td>2017</td>\n",
       "      <td>2019</td>\n",
       "    </tr>\n",
       "    <tr>\n",
       "      <th>35</th>\n",
       "      <td>David Rubin</td>\n",
       "      <td>2019</td>\n",
       "      <td>present</td>\n",
       "    </tr>\n",
       "  </tbody>\n",
       "</table>\n",
       "</div>"
      ],
      "text/plain": [
       "                   Name  Start Time End Time\n",
       "0     Douglas Fairbanks        1927     1929\n",
       "1    William C. DeMille        1929     1931\n",
       "2            M.C. Levee        1931     1932\n",
       "3          Conrad Nagel        1932     1933\n",
       "4      J. Theodore Reed        1933     1934\n",
       "5           Frank Lloyd        1934     1935\n",
       "6           Frank Capra        1935     1939\n",
       "7         Walter Wanger        1939     1941\n",
       "8         Walter Wanger        1941     1945\n",
       "9         Jean Hersholt        1945     1949\n",
       "10     Charles Brackett        1949     1955\n",
       "11        George Seaton        1955     1958\n",
       "12       George Stevens        1958     1959\n",
       "13         B. B. Kahane        1959     1960\n",
       "14     Valentine Davies        1960     1961\n",
       "15        Wendell Corey        1961     1963\n",
       "16         Arthur Freed        1963     1967\n",
       "17         Gregory Peck        1967     1970\n",
       "18      Daniel Taradash        1970     1973\n",
       "19       Walter Mirisch        1973     1977\n",
       "20       Howard W. Koch        1977     1979\n",
       "21            Fay Kanin        1979     1983\n",
       "22           Gene Allen        1983     1985\n",
       "23          Robert Wise        1985     1988\n",
       "24         Richard Kahn        1988     1989\n",
       "25          Karl Malden        1989     1992\n",
       "26         Robert Rehme        1992     1993\n",
       "27        Arthur Hiller        1993     1997\n",
       "28         Robert Rehme        1997     2001\n",
       "29     Frank R. Pierson        2001     2005\n",
       "30            Sid Ganis        2005     2009\n",
       "31           Tom Sherak        2009     2012\n",
       "32            Hawk Koch        2012     2013\n",
       "33  Cheryl Boone Isaacs        2013     2017\n",
       "34          John Bailey        2017     2019\n",
       "35          David Rubin        2019  present"
      ]
     },
     "execution_count": 108,
     "metadata": {},
     "output_type": "execute_result"
    }
   ],
   "source": [
    "# read csv\n",
    "df_president = pd.read_csv('academy_president.csv').drop(columns='Unnamed: 0')\n",
    "df_president"
   ]
  },
  {
   "cell_type": "code",
   "execution_count": 109,
   "metadata": {
    "collapsed": true
   },
   "outputs": [
    {
     "data": {
      "text/html": [
       "<div>\n",
       "<style scoped>\n",
       "    .dataframe tbody tr th:only-of-type {\n",
       "        vertical-align: middle;\n",
       "    }\n",
       "\n",
       "    .dataframe tbody tr th {\n",
       "        vertical-align: top;\n",
       "    }\n",
       "\n",
       "    .dataframe thead th {\n",
       "        text-align: right;\n",
       "    }\n",
       "</style>\n",
       "<table border=\"1\" class=\"dataframe\">\n",
       "  <thead>\n",
       "    <tr style=\"text-align: right;\">\n",
       "      <th></th>\n",
       "      <th>Name</th>\n",
       "      <th>Start Time</th>\n",
       "      <th>End Time</th>\n",
       "    </tr>\n",
       "  </thead>\n",
       "  <tbody>\n",
       "    <tr>\n",
       "      <th>0</th>\n",
       "      <td>Douglas Fairbanks</td>\n",
       "      <td>1927</td>\n",
       "      <td>1929</td>\n",
       "    </tr>\n",
       "    <tr>\n",
       "      <th>1</th>\n",
       "      <td>William C. DeMille</td>\n",
       "      <td>1929</td>\n",
       "      <td>1931</td>\n",
       "    </tr>\n",
       "    <tr>\n",
       "      <th>2</th>\n",
       "      <td>M.C. Levee</td>\n",
       "      <td>1931</td>\n",
       "      <td>1932</td>\n",
       "    </tr>\n",
       "    <tr>\n",
       "      <th>3</th>\n",
       "      <td>Conrad Nagel</td>\n",
       "      <td>1932</td>\n",
       "      <td>1933</td>\n",
       "    </tr>\n",
       "    <tr>\n",
       "      <th>4</th>\n",
       "      <td>J. Theodore Reed</td>\n",
       "      <td>1933</td>\n",
       "      <td>1934</td>\n",
       "    </tr>\n",
       "    <tr>\n",
       "      <th>5</th>\n",
       "      <td>Frank Lloyd</td>\n",
       "      <td>1934</td>\n",
       "      <td>1935</td>\n",
       "    </tr>\n",
       "    <tr>\n",
       "      <th>6</th>\n",
       "      <td>Frank Capra</td>\n",
       "      <td>1935</td>\n",
       "      <td>1939</td>\n",
       "    </tr>\n",
       "    <tr>\n",
       "      <th>7</th>\n",
       "      <td>Walter Wanger</td>\n",
       "      <td>1939</td>\n",
       "      <td>1941</td>\n",
       "    </tr>\n",
       "    <tr>\n",
       "      <th>8</th>\n",
       "      <td>Walter Wanger</td>\n",
       "      <td>1941</td>\n",
       "      <td>1945</td>\n",
       "    </tr>\n",
       "    <tr>\n",
       "      <th>9</th>\n",
       "      <td>Jean Hersholt</td>\n",
       "      <td>1945</td>\n",
       "      <td>1949</td>\n",
       "    </tr>\n",
       "    <tr>\n",
       "      <th>10</th>\n",
       "      <td>Charles Brackett</td>\n",
       "      <td>1949</td>\n",
       "      <td>1955</td>\n",
       "    </tr>\n",
       "    <tr>\n",
       "      <th>11</th>\n",
       "      <td>George Seaton</td>\n",
       "      <td>1955</td>\n",
       "      <td>1958</td>\n",
       "    </tr>\n",
       "    <tr>\n",
       "      <th>12</th>\n",
       "      <td>George Stevens</td>\n",
       "      <td>1958</td>\n",
       "      <td>1959</td>\n",
       "    </tr>\n",
       "    <tr>\n",
       "      <th>13</th>\n",
       "      <td>B. B. Kahane</td>\n",
       "      <td>1959</td>\n",
       "      <td>1960</td>\n",
       "    </tr>\n",
       "    <tr>\n",
       "      <th>14</th>\n",
       "      <td>Valentine Davies</td>\n",
       "      <td>1960</td>\n",
       "      <td>1961</td>\n",
       "    </tr>\n",
       "    <tr>\n",
       "      <th>15</th>\n",
       "      <td>Wendell Corey</td>\n",
       "      <td>1961</td>\n",
       "      <td>1963</td>\n",
       "    </tr>\n",
       "    <tr>\n",
       "      <th>16</th>\n",
       "      <td>Arthur Freed</td>\n",
       "      <td>1963</td>\n",
       "      <td>1967</td>\n",
       "    </tr>\n",
       "    <tr>\n",
       "      <th>17</th>\n",
       "      <td>Gregory Peck</td>\n",
       "      <td>1967</td>\n",
       "      <td>1970</td>\n",
       "    </tr>\n",
       "    <tr>\n",
       "      <th>18</th>\n",
       "      <td>Daniel Taradash</td>\n",
       "      <td>1970</td>\n",
       "      <td>1973</td>\n",
       "    </tr>\n",
       "    <tr>\n",
       "      <th>19</th>\n",
       "      <td>Walter Mirisch</td>\n",
       "      <td>1973</td>\n",
       "      <td>1977</td>\n",
       "    </tr>\n",
       "    <tr>\n",
       "      <th>20</th>\n",
       "      <td>Howard W. Koch</td>\n",
       "      <td>1977</td>\n",
       "      <td>1979</td>\n",
       "    </tr>\n",
       "    <tr>\n",
       "      <th>21</th>\n",
       "      <td>Fay Kanin</td>\n",
       "      <td>1979</td>\n",
       "      <td>1983</td>\n",
       "    </tr>\n",
       "    <tr>\n",
       "      <th>22</th>\n",
       "      <td>Gene Allen</td>\n",
       "      <td>1983</td>\n",
       "      <td>1985</td>\n",
       "    </tr>\n",
       "    <tr>\n",
       "      <th>23</th>\n",
       "      <td>Robert Wise</td>\n",
       "      <td>1985</td>\n",
       "      <td>1988</td>\n",
       "    </tr>\n",
       "    <tr>\n",
       "      <th>24</th>\n",
       "      <td>Richard Kahn</td>\n",
       "      <td>1988</td>\n",
       "      <td>1989</td>\n",
       "    </tr>\n",
       "    <tr>\n",
       "      <th>25</th>\n",
       "      <td>Karl Malden</td>\n",
       "      <td>1989</td>\n",
       "      <td>1992</td>\n",
       "    </tr>\n",
       "    <tr>\n",
       "      <th>26</th>\n",
       "      <td>Robert Rehme</td>\n",
       "      <td>1992</td>\n",
       "      <td>1993</td>\n",
       "    </tr>\n",
       "    <tr>\n",
       "      <th>27</th>\n",
       "      <td>Arthur Hiller</td>\n",
       "      <td>1993</td>\n",
       "      <td>1997</td>\n",
       "    </tr>\n",
       "    <tr>\n",
       "      <th>28</th>\n",
       "      <td>Robert Rehme</td>\n",
       "      <td>1997</td>\n",
       "      <td>2001</td>\n",
       "    </tr>\n",
       "    <tr>\n",
       "      <th>29</th>\n",
       "      <td>Frank R. Pierson</td>\n",
       "      <td>2001</td>\n",
       "      <td>2005</td>\n",
       "    </tr>\n",
       "    <tr>\n",
       "      <th>30</th>\n",
       "      <td>Sid Ganis</td>\n",
       "      <td>2005</td>\n",
       "      <td>2009</td>\n",
       "    </tr>\n",
       "    <tr>\n",
       "      <th>31</th>\n",
       "      <td>Tom Sherak</td>\n",
       "      <td>2009</td>\n",
       "      <td>2012</td>\n",
       "    </tr>\n",
       "    <tr>\n",
       "      <th>32</th>\n",
       "      <td>Hawk Koch</td>\n",
       "      <td>2012</td>\n",
       "      <td>2013</td>\n",
       "    </tr>\n",
       "    <tr>\n",
       "      <th>33</th>\n",
       "      <td>Cheryl Boone Isaacs</td>\n",
       "      <td>2013</td>\n",
       "      <td>2017</td>\n",
       "    </tr>\n",
       "    <tr>\n",
       "      <th>34</th>\n",
       "      <td>John Bailey</td>\n",
       "      <td>2017</td>\n",
       "      <td>2019</td>\n",
       "    </tr>\n",
       "    <tr>\n",
       "      <th>35</th>\n",
       "      <td>David Rubin</td>\n",
       "      <td>2019</td>\n",
       "      <td>2022</td>\n",
       "    </tr>\n",
       "  </tbody>\n",
       "</table>\n",
       "</div>"
      ],
      "text/plain": [
       "                   Name  Start Time End Time\n",
       "0     Douglas Fairbanks        1927     1929\n",
       "1    William C. DeMille        1929     1931\n",
       "2            M.C. Levee        1931     1932\n",
       "3          Conrad Nagel        1932     1933\n",
       "4      J. Theodore Reed        1933     1934\n",
       "5           Frank Lloyd        1934     1935\n",
       "6           Frank Capra        1935     1939\n",
       "7         Walter Wanger        1939     1941\n",
       "8         Walter Wanger        1941     1945\n",
       "9         Jean Hersholt        1945     1949\n",
       "10     Charles Brackett        1949     1955\n",
       "11        George Seaton        1955     1958\n",
       "12       George Stevens        1958     1959\n",
       "13         B. B. Kahane        1959     1960\n",
       "14     Valentine Davies        1960     1961\n",
       "15        Wendell Corey        1961     1963\n",
       "16         Arthur Freed        1963     1967\n",
       "17         Gregory Peck        1967     1970\n",
       "18      Daniel Taradash        1970     1973\n",
       "19       Walter Mirisch        1973     1977\n",
       "20       Howard W. Koch        1977     1979\n",
       "21            Fay Kanin        1979     1983\n",
       "22           Gene Allen        1983     1985\n",
       "23          Robert Wise        1985     1988\n",
       "24         Richard Kahn        1988     1989\n",
       "25          Karl Malden        1989     1992\n",
       "26         Robert Rehme        1992     1993\n",
       "27        Arthur Hiller        1993     1997\n",
       "28         Robert Rehme        1997     2001\n",
       "29     Frank R. Pierson        2001     2005\n",
       "30            Sid Ganis        2005     2009\n",
       "31           Tom Sherak        2009     2012\n",
       "32            Hawk Koch        2012     2013\n",
       "33  Cheryl Boone Isaacs        2013     2017\n",
       "34          John Bailey        2017     2019\n",
       "35          David Rubin        2019     2022"
      ]
     },
     "execution_count": 109,
     "metadata": {},
     "output_type": "execute_result"
    }
   ],
   "source": [
    "# change present president time to 2022\n",
    "df_president.at[35,'End Time']='2022'\n",
    "df_president"
   ]
  },
  {
   "cell_type": "code",
   "execution_count": 110,
   "metadata": {
    "collapsed": true
   },
   "outputs": [
    {
     "name": "stdout",
     "output_type": "stream",
     "text": [
      "<class 'pandas.core.frame.DataFrame'>\n",
      "RangeIndex: 36 entries, 0 to 35\n",
      "Data columns (total 3 columns):\n",
      " #   Column      Non-Null Count  Dtype \n",
      "---  ------      --------------  ----- \n",
      " 0   Name        36 non-null     object\n",
      " 1   Start Time  36 non-null     int64 \n",
      " 2   End Time    36 non-null     int64 \n",
      "dtypes: int64(2), object(1)\n",
      "memory usage: 992.0+ bytes\n"
     ]
    }
   ],
   "source": [
    "df_president = df_president.astype({'End Time':'int64'}) # change the 'End Time' column dtype to int64\n",
    "df_president.info()"
   ]
  },
  {
   "cell_type": "code",
   "execution_count": 111,
   "metadata": {},
   "outputs": [
    {
     "data": {
      "text/html": [
       "<div>\n",
       "<style scoped>\n",
       "    .dataframe tbody tr th:only-of-type {\n",
       "        vertical-align: middle;\n",
       "    }\n",
       "\n",
       "    .dataframe tbody tr th {\n",
       "        vertical-align: top;\n",
       "    }\n",
       "\n",
       "    .dataframe thead th {\n",
       "        text-align: right;\n",
       "    }\n",
       "</style>\n",
       "<table border=\"1\" class=\"dataframe\">\n",
       "  <thead>\n",
       "    <tr style=\"text-align: right;\">\n",
       "      <th></th>\n",
       "      <th>Name</th>\n",
       "      <th>Start Time</th>\n",
       "      <th>End Time</th>\n",
       "      <th>Presidency</th>\n",
       "    </tr>\n",
       "  </thead>\n",
       "  <tbody>\n",
       "    <tr>\n",
       "      <th>10</th>\n",
       "      <td>Charles Brackett</td>\n",
       "      <td>1949</td>\n",
       "      <td>1955</td>\n",
       "      <td>6</td>\n",
       "    </tr>\n",
       "    <tr>\n",
       "      <th>8</th>\n",
       "      <td>Walter Wanger</td>\n",
       "      <td>1941</td>\n",
       "      <td>1945</td>\n",
       "      <td>4</td>\n",
       "    </tr>\n",
       "    <tr>\n",
       "      <th>28</th>\n",
       "      <td>Robert Rehme</td>\n",
       "      <td>1997</td>\n",
       "      <td>2001</td>\n",
       "      <td>4</td>\n",
       "    </tr>\n",
       "    <tr>\n",
       "      <th>19</th>\n",
       "      <td>Walter Mirisch</td>\n",
       "      <td>1973</td>\n",
       "      <td>1977</td>\n",
       "      <td>4</td>\n",
       "    </tr>\n",
       "    <tr>\n",
       "      <th>21</th>\n",
       "      <td>Fay Kanin</td>\n",
       "      <td>1979</td>\n",
       "      <td>1983</td>\n",
       "      <td>4</td>\n",
       "    </tr>\n",
       "    <tr>\n",
       "      <th>27</th>\n",
       "      <td>Arthur Hiller</td>\n",
       "      <td>1993</td>\n",
       "      <td>1997</td>\n",
       "      <td>4</td>\n",
       "    </tr>\n",
       "    <tr>\n",
       "      <th>9</th>\n",
       "      <td>Jean Hersholt</td>\n",
       "      <td>1945</td>\n",
       "      <td>1949</td>\n",
       "      <td>4</td>\n",
       "    </tr>\n",
       "    <tr>\n",
       "      <th>16</th>\n",
       "      <td>Arthur Freed</td>\n",
       "      <td>1963</td>\n",
       "      <td>1967</td>\n",
       "      <td>4</td>\n",
       "    </tr>\n",
       "    <tr>\n",
       "      <th>6</th>\n",
       "      <td>Frank Capra</td>\n",
       "      <td>1935</td>\n",
       "      <td>1939</td>\n",
       "      <td>4</td>\n",
       "    </tr>\n",
       "    <tr>\n",
       "      <th>29</th>\n",
       "      <td>Frank R. Pierson</td>\n",
       "      <td>2001</td>\n",
       "      <td>2005</td>\n",
       "      <td>4</td>\n",
       "    </tr>\n",
       "    <tr>\n",
       "      <th>30</th>\n",
       "      <td>Sid Ganis</td>\n",
       "      <td>2005</td>\n",
       "      <td>2009</td>\n",
       "      <td>4</td>\n",
       "    </tr>\n",
       "    <tr>\n",
       "      <th>33</th>\n",
       "      <td>Cheryl Boone Isaacs</td>\n",
       "      <td>2013</td>\n",
       "      <td>2017</td>\n",
       "      <td>4</td>\n",
       "    </tr>\n",
       "    <tr>\n",
       "      <th>17</th>\n",
       "      <td>Gregory Peck</td>\n",
       "      <td>1967</td>\n",
       "      <td>1970</td>\n",
       "      <td>3</td>\n",
       "    </tr>\n",
       "    <tr>\n",
       "      <th>25</th>\n",
       "      <td>Karl Malden</td>\n",
       "      <td>1989</td>\n",
       "      <td>1992</td>\n",
       "      <td>3</td>\n",
       "    </tr>\n",
       "    <tr>\n",
       "      <th>23</th>\n",
       "      <td>Robert Wise</td>\n",
       "      <td>1985</td>\n",
       "      <td>1988</td>\n",
       "      <td>3</td>\n",
       "    </tr>\n",
       "    <tr>\n",
       "      <th>31</th>\n",
       "      <td>Tom Sherak</td>\n",
       "      <td>2009</td>\n",
       "      <td>2012</td>\n",
       "      <td>3</td>\n",
       "    </tr>\n",
       "    <tr>\n",
       "      <th>18</th>\n",
       "      <td>Daniel Taradash</td>\n",
       "      <td>1970</td>\n",
       "      <td>1973</td>\n",
       "      <td>3</td>\n",
       "    </tr>\n",
       "    <tr>\n",
       "      <th>35</th>\n",
       "      <td>David Rubin</td>\n",
       "      <td>2019</td>\n",
       "      <td>2022</td>\n",
       "      <td>3</td>\n",
       "    </tr>\n",
       "    <tr>\n",
       "      <th>11</th>\n",
       "      <td>George Seaton</td>\n",
       "      <td>1955</td>\n",
       "      <td>1958</td>\n",
       "      <td>3</td>\n",
       "    </tr>\n",
       "    <tr>\n",
       "      <th>15</th>\n",
       "      <td>Wendell Corey</td>\n",
       "      <td>1961</td>\n",
       "      <td>1963</td>\n",
       "      <td>2</td>\n",
       "    </tr>\n",
       "    <tr>\n",
       "      <th>34</th>\n",
       "      <td>John Bailey</td>\n",
       "      <td>2017</td>\n",
       "      <td>2019</td>\n",
       "      <td>2</td>\n",
       "    </tr>\n",
       "    <tr>\n",
       "      <th>7</th>\n",
       "      <td>Walter Wanger</td>\n",
       "      <td>1939</td>\n",
       "      <td>1941</td>\n",
       "      <td>2</td>\n",
       "    </tr>\n",
       "    <tr>\n",
       "      <th>1</th>\n",
       "      <td>William C. DeMille</td>\n",
       "      <td>1929</td>\n",
       "      <td>1931</td>\n",
       "      <td>2</td>\n",
       "    </tr>\n",
       "    <tr>\n",
       "      <th>22</th>\n",
       "      <td>Gene Allen</td>\n",
       "      <td>1983</td>\n",
       "      <td>1985</td>\n",
       "      <td>2</td>\n",
       "    </tr>\n",
       "    <tr>\n",
       "      <th>20</th>\n",
       "      <td>Howard W. Koch</td>\n",
       "      <td>1977</td>\n",
       "      <td>1979</td>\n",
       "      <td>2</td>\n",
       "    </tr>\n",
       "    <tr>\n",
       "      <th>0</th>\n",
       "      <td>Douglas Fairbanks</td>\n",
       "      <td>1927</td>\n",
       "      <td>1929</td>\n",
       "      <td>2</td>\n",
       "    </tr>\n",
       "    <tr>\n",
       "      <th>13</th>\n",
       "      <td>B. B. Kahane</td>\n",
       "      <td>1959</td>\n",
       "      <td>1960</td>\n",
       "      <td>1</td>\n",
       "    </tr>\n",
       "    <tr>\n",
       "      <th>24</th>\n",
       "      <td>Richard Kahn</td>\n",
       "      <td>1988</td>\n",
       "      <td>1989</td>\n",
       "      <td>1</td>\n",
       "    </tr>\n",
       "    <tr>\n",
       "      <th>12</th>\n",
       "      <td>George Stevens</td>\n",
       "      <td>1958</td>\n",
       "      <td>1959</td>\n",
       "      <td>1</td>\n",
       "    </tr>\n",
       "    <tr>\n",
       "      <th>26</th>\n",
       "      <td>Robert Rehme</td>\n",
       "      <td>1992</td>\n",
       "      <td>1993</td>\n",
       "      <td>1</td>\n",
       "    </tr>\n",
       "    <tr>\n",
       "      <th>14</th>\n",
       "      <td>Valentine Davies</td>\n",
       "      <td>1960</td>\n",
       "      <td>1961</td>\n",
       "      <td>1</td>\n",
       "    </tr>\n",
       "    <tr>\n",
       "      <th>5</th>\n",
       "      <td>Frank Lloyd</td>\n",
       "      <td>1934</td>\n",
       "      <td>1935</td>\n",
       "      <td>1</td>\n",
       "    </tr>\n",
       "    <tr>\n",
       "      <th>4</th>\n",
       "      <td>J. Theodore Reed</td>\n",
       "      <td>1933</td>\n",
       "      <td>1934</td>\n",
       "      <td>1</td>\n",
       "    </tr>\n",
       "    <tr>\n",
       "      <th>3</th>\n",
       "      <td>Conrad Nagel</td>\n",
       "      <td>1932</td>\n",
       "      <td>1933</td>\n",
       "      <td>1</td>\n",
       "    </tr>\n",
       "    <tr>\n",
       "      <th>32</th>\n",
       "      <td>Hawk Koch</td>\n",
       "      <td>2012</td>\n",
       "      <td>2013</td>\n",
       "      <td>1</td>\n",
       "    </tr>\n",
       "    <tr>\n",
       "      <th>2</th>\n",
       "      <td>M.C. Levee</td>\n",
       "      <td>1931</td>\n",
       "      <td>1932</td>\n",
       "      <td>1</td>\n",
       "    </tr>\n",
       "  </tbody>\n",
       "</table>\n",
       "</div>"
      ],
      "text/plain": [
       "                   Name  Start Time  End Time  Presidency\n",
       "10     Charles Brackett        1949      1955           6\n",
       "8         Walter Wanger        1941      1945           4\n",
       "28         Robert Rehme        1997      2001           4\n",
       "19       Walter Mirisch        1973      1977           4\n",
       "21            Fay Kanin        1979      1983           4\n",
       "27        Arthur Hiller        1993      1997           4\n",
       "9         Jean Hersholt        1945      1949           4\n",
       "16         Arthur Freed        1963      1967           4\n",
       "6           Frank Capra        1935      1939           4\n",
       "29     Frank R. Pierson        2001      2005           4\n",
       "30            Sid Ganis        2005      2009           4\n",
       "33  Cheryl Boone Isaacs        2013      2017           4\n",
       "17         Gregory Peck        1967      1970           3\n",
       "25          Karl Malden        1989      1992           3\n",
       "23          Robert Wise        1985      1988           3\n",
       "31           Tom Sherak        2009      2012           3\n",
       "18      Daniel Taradash        1970      1973           3\n",
       "35          David Rubin        2019      2022           3\n",
       "11        George Seaton        1955      1958           3\n",
       "15        Wendell Corey        1961      1963           2\n",
       "34          John Bailey        2017      2019           2\n",
       "7         Walter Wanger        1939      1941           2\n",
       "1    William C. DeMille        1929      1931           2\n",
       "22           Gene Allen        1983      1985           2\n",
       "20       Howard W. Koch        1977      1979           2\n",
       "0     Douglas Fairbanks        1927      1929           2\n",
       "13         B. B. Kahane        1959      1960           1\n",
       "24         Richard Kahn        1988      1989           1\n",
       "12       George Stevens        1958      1959           1\n",
       "26         Robert Rehme        1992      1993           1\n",
       "14     Valentine Davies        1960      1961           1\n",
       "5           Frank Lloyd        1934      1935           1\n",
       "4      J. Theodore Reed        1933      1934           1\n",
       "3          Conrad Nagel        1932      1933           1\n",
       "32            Hawk Koch        2012      2013           1\n",
       "2            M.C. Levee        1931      1932           1"
      ]
     },
     "execution_count": 111,
     "metadata": {},
     "output_type": "execute_result"
    }
   ],
   "source": [
    "df_president['Presidency'] = df_president['End Time'] - df_president['Start Time'] # calculate the presidency\n",
    "df_president.sort_values(by=['Presidency'],ascending=False)"
   ]
  },
  {
   "cell_type": "code",
   "execution_count": 112,
   "metadata": {},
   "outputs": [
    {
     "data": {
      "text/plain": [
       "Presidency\n",
       "1    10\n",
       "2     7\n",
       "3     7\n",
       "4    11\n",
       "6     1\n",
       "Name: Name, dtype: int64"
      ]
     },
     "execution_count": 112,
     "metadata": {},
     "output_type": "execute_result"
    }
   ],
   "source": [
    "df_president.groupby('Presidency')['Name'].count() # group by and count the president length"
   ]
  },
  {
   "cell_type": "markdown",
   "metadata": {},
   "source": [
    "---\n",
    "### Award Details"
   ]
  },
  {
   "cell_type": "code",
   "execution_count": 336,
   "metadata": {},
   "outputs": [
    {
     "data": {
      "text/html": [
       "<div>\n",
       "<style scoped>\n",
       "    .dataframe tbody tr th:only-of-type {\n",
       "        vertical-align: middle;\n",
       "    }\n",
       "\n",
       "    .dataframe tbody tr th {\n",
       "        vertical-align: top;\n",
       "    }\n",
       "\n",
       "    .dataframe thead th {\n",
       "        text-align: right;\n",
       "    }\n",
       "</style>\n",
       "<table border=\"1\" class=\"dataframe\">\n",
       "  <thead>\n",
       "    <tr style=\"text-align: right;\">\n",
       "      <th></th>\n",
       "      <th>info1</th>\n",
       "      <th>info2</th>\n",
       "      <th>status</th>\n",
       "      <th>award</th>\n",
       "      <th>year</th>\n",
       "    </tr>\n",
       "  </thead>\n",
       "  <tbody>\n",
       "    <tr>\n",
       "      <th>0</th>\n",
       "      <td>Emil Jannings</td>\n",
       "      <td>The Last Command</td>\n",
       "      <td>winner</td>\n",
       "      <td>Actor</td>\n",
       "      <td>1929</td>\n",
       "    </tr>\n",
       "    <tr>\n",
       "      <th>1</th>\n",
       "      <td>Emil Jannings</td>\n",
       "      <td>The Way of All Flesh</td>\n",
       "      <td>winner</td>\n",
       "      <td>Actor</td>\n",
       "      <td>1929</td>\n",
       "    </tr>\n",
       "    <tr>\n",
       "      <th>2</th>\n",
       "      <td>Richard Barthelmess</td>\n",
       "      <td>The Noose</td>\n",
       "      <td>nominee</td>\n",
       "      <td>Actor</td>\n",
       "      <td>1929</td>\n",
       "    </tr>\n",
       "    <tr>\n",
       "      <th>3</th>\n",
       "      <td>Richard Barthelmess</td>\n",
       "      <td>The Patent Leather Kid</td>\n",
       "      <td>nominee</td>\n",
       "      <td>Actor</td>\n",
       "      <td>1929</td>\n",
       "    </tr>\n",
       "    <tr>\n",
       "      <th>4</th>\n",
       "      <td>Janet Gaynor</td>\n",
       "      <td>7th Heaven</td>\n",
       "      <td>winner</td>\n",
       "      <td>Actress</td>\n",
       "      <td>1929</td>\n",
       "    </tr>\n",
       "    <tr>\n",
       "      <th>...</th>\n",
       "      <td>...</td>\n",
       "      <td>...</td>\n",
       "      <td>...</td>\n",
       "      <td>...</td>\n",
       "      <td>...</td>\n",
       "    </tr>\n",
       "    <tr>\n",
       "      <th>10450</th>\n",
       "      <td>Belfast</td>\n",
       "      <td>Written by Kenneth Branagh</td>\n",
       "      <td>winner</td>\n",
       "      <td>Writing (Original Screenplay)</td>\n",
       "      <td>2022</td>\n",
       "    </tr>\n",
       "    <tr>\n",
       "      <th>10451</th>\n",
       "      <td>Don't Look Up</td>\n",
       "      <td>Screenplay by Adam McKay; Story by Adam McKay ...</td>\n",
       "      <td>nominee</td>\n",
       "      <td>Writing (Original Screenplay)</td>\n",
       "      <td>2022</td>\n",
       "    </tr>\n",
       "    <tr>\n",
       "      <th>10452</th>\n",
       "      <td>King Richard</td>\n",
       "      <td>Written by Zach Baylin</td>\n",
       "      <td>nominee</td>\n",
       "      <td>Writing (Original Screenplay)</td>\n",
       "      <td>2022</td>\n",
       "    </tr>\n",
       "    <tr>\n",
       "      <th>10453</th>\n",
       "      <td>Licorice Pizza</td>\n",
       "      <td>Written by Paul Thomas Anderson</td>\n",
       "      <td>nominee</td>\n",
       "      <td>Writing (Original Screenplay)</td>\n",
       "      <td>2022</td>\n",
       "    </tr>\n",
       "    <tr>\n",
       "      <th>10454</th>\n",
       "      <td>The Worst Person in the World</td>\n",
       "      <td>Written by Eskil Vogt, Joachim Trier</td>\n",
       "      <td>nominee</td>\n",
       "      <td>Writing (Original Screenplay)</td>\n",
       "      <td>2022</td>\n",
       "    </tr>\n",
       "  </tbody>\n",
       "</table>\n",
       "<p>10455 rows × 5 columns</p>\n",
       "</div>"
      ],
      "text/plain": [
       "                               info1  \\\n",
       "0                      Emil Jannings   \n",
       "1                      Emil Jannings   \n",
       "2                Richard Barthelmess   \n",
       "3                Richard Barthelmess   \n",
       "4                       Janet Gaynor   \n",
       "...                              ...   \n",
       "10450                        Belfast   \n",
       "10451                  Don't Look Up   \n",
       "10452                   King Richard   \n",
       "10453                 Licorice Pizza   \n",
       "10454  The Worst Person in the World   \n",
       "\n",
       "                                                   info2   status  \\\n",
       "0                                       The Last Command   winner   \n",
       "1                                   The Way of All Flesh   winner   \n",
       "2                                              The Noose  nominee   \n",
       "3                                 The Patent Leather Kid  nominee   \n",
       "4                                             7th Heaven   winner   \n",
       "...                                                  ...      ...   \n",
       "10450                         Written by Kenneth Branagh   winner   \n",
       "10451  Screenplay by Adam McKay; Story by Adam McKay ...  nominee   \n",
       "10452                             Written by Zach Baylin  nominee   \n",
       "10453                    Written by Paul Thomas Anderson  nominee   \n",
       "10454               Written by Eskil Vogt, Joachim Trier  nominee   \n",
       "\n",
       "                               award  year  \n",
       "0                              Actor  1929  \n",
       "1                              Actor  1929  \n",
       "2                              Actor  1929  \n",
       "3                              Actor  1929  \n",
       "4                            Actress  1929  \n",
       "...                              ...   ...  \n",
       "10450  Writing (Original Screenplay)  2022  \n",
       "10451  Writing (Original Screenplay)  2022  \n",
       "10452  Writing (Original Screenplay)  2022  \n",
       "10453  Writing (Original Screenplay)  2022  \n",
       "10454  Writing (Original Screenplay)  2022  \n",
       "\n",
       "[10455 rows x 5 columns]"
      ]
     },
     "execution_count": 336,
     "metadata": {},
     "output_type": "execute_result"
    }
   ],
   "source": [
    "df_award = pd.read_csv('award_info.csv').drop(columns='Unnamed: 0')\n",
    "df_award"
   ]
  },
  {
   "cell_type": "code",
   "execution_count": 339,
   "metadata": {},
   "outputs": [
    {
     "data": {
      "text/plain": [
       "120"
      ]
     },
     "execution_count": 339,
     "metadata": {},
     "output_type": "execute_result"
    }
   ],
   "source": [
    "# the total number of awards in 2022\n",
    "len(df_award[df_award['year'] == 2022])"
   ]
  },
  {
   "cell_type": "code",
   "execution_count": 115,
   "metadata": {},
   "outputs": [
    {
     "name": "stdout",
     "output_type": "stream",
     "text": [
      "<class 'pandas.core.frame.DataFrame'>\n",
      "RangeIndex: 10455 entries, 0 to 10454\n",
      "Data columns (total 5 columns):\n",
      " #   Column  Non-Null Count  Dtype \n",
      "---  ------  --------------  ----- \n",
      " 0   info1   10339 non-null  object\n",
      " 1   info2   10455 non-null  object\n",
      " 2   status  10455 non-null  object\n",
      " 3   award   10455 non-null  object\n",
      " 4   year    10455 non-null  int64 \n",
      "dtypes: int64(1), object(4)\n",
      "memory usage: 408.5+ KB\n"
     ]
    }
   ],
   "source": [
    "# count the total number of awards through years\n",
    "df_award.info()"
   ]
  },
  {
   "cell_type": "code",
   "execution_count": 250,
   "metadata": {},
   "outputs": [
    {
     "data": {
      "text/html": [
       "<div>\n",
       "<style scoped>\n",
       "    .dataframe tbody tr th:only-of-type {\n",
       "        vertical-align: middle;\n",
       "    }\n",
       "\n",
       "    .dataframe tbody tr th {\n",
       "        vertical-align: top;\n",
       "    }\n",
       "\n",
       "    .dataframe thead th {\n",
       "        text-align: right;\n",
       "    }\n",
       "</style>\n",
       "<table border=\"1\" class=\"dataframe\">\n",
       "  <thead>\n",
       "    <tr style=\"text-align: right;\">\n",
       "      <th></th>\n",
       "      <th>index</th>\n",
       "      <th>award</th>\n",
       "    </tr>\n",
       "  </thead>\n",
       "  <tbody>\n",
       "    <tr>\n",
       "      <th>0</th>\n",
       "      <td>Directing</td>\n",
       "      <td>461</td>\n",
       "    </tr>\n",
       "    <tr>\n",
       "      <th>1</th>\n",
       "      <td>Film Editing</td>\n",
       "      <td>440</td>\n",
       "    </tr>\n",
       "    <tr>\n",
       "      <th>2</th>\n",
       "      <td>Actress in a Supporting Role</td>\n",
       "      <td>430</td>\n",
       "    </tr>\n",
       "    <tr>\n",
       "      <th>3</th>\n",
       "      <td>Actor in a Supporting Role</td>\n",
       "      <td>430</td>\n",
       "    </tr>\n",
       "    <tr>\n",
       "      <th>4</th>\n",
       "      <td>Documentary (Short Subject)</td>\n",
       "      <td>364</td>\n",
       "    </tr>\n",
       "    <tr>\n",
       "      <th>...</th>\n",
       "      <td>...</td>\n",
       "      <td>...</td>\n",
       "    </tr>\n",
       "    <tr>\n",
       "      <th>106</th>\n",
       "      <td>Directing (Dramatic Picture)</td>\n",
       "      <td>3</td>\n",
       "    </tr>\n",
       "    <tr>\n",
       "      <th>107</th>\n",
       "      <td>Special Foreign Language Film Award</td>\n",
       "      <td>2</td>\n",
       "    </tr>\n",
       "    <tr>\n",
       "      <th>108</th>\n",
       "      <td>Directing (Comedy Picture)</td>\n",
       "      <td>2</td>\n",
       "    </tr>\n",
       "    <tr>\n",
       "      <th>109</th>\n",
       "      <td>Special Achievement Award (Sound Editing)</td>\n",
       "      <td>1</td>\n",
       "    </tr>\n",
       "    <tr>\n",
       "      <th>110</th>\n",
       "      <td>Special Achievement Award (Sound Effects)</td>\n",
       "      <td>1</td>\n",
       "    </tr>\n",
       "  </tbody>\n",
       "</table>\n",
       "<p>111 rows × 2 columns</p>\n",
       "</div>"
      ],
      "text/plain": [
       "                                         index  award\n",
       "0                                    Directing    461\n",
       "1                                 Film Editing    440\n",
       "2                 Actress in a Supporting Role    430\n",
       "3                   Actor in a Supporting Role    430\n",
       "4                  Documentary (Short Subject)    364\n",
       "..                                         ...    ...\n",
       "106               Directing (Dramatic Picture)      3\n",
       "107        Special Foreign Language Film Award      2\n",
       "108                 Directing (Comedy Picture)      2\n",
       "109  Special Achievement Award (Sound Editing)      1\n",
       "110  Special Achievement Award (Sound Effects)      1\n",
       "\n",
       "[111 rows x 2 columns]"
      ]
     },
     "execution_count": 250,
     "metadata": {},
     "output_type": "execute_result"
    }
   ],
   "source": [
    "# count the total number of awards per category\n",
    "df0=df_award['award'].value_counts()\n",
    "df00=pd.DataFrame(df0).reset_index()\n",
    "df00"
   ]
  },
  {
   "cell_type": "code",
   "execution_count": 252,
   "metadata": {
    "collapsed": true
   },
   "outputs": [
    {
     "data": {
      "application/vnd.plotly.v1+json": {
       "config": {
        "plotlyServerURL": "https://plot.ly"
       },
       "data": [
        {
         "domain": {
          "x": [
           0,
           1
          ],
          "y": [
           0,
           1
          ]
         },
         "hovertemplate": "index=%{label}<br>award=%{value}<extra></extra>",
         "labels": [
          "Directing",
          "Film Editing",
          "Actress in a Supporting Role",
          "Actor in a Supporting Role",
          "Documentary (Short Subject)",
          "Best Picture",
          "Documentary (Feature)",
          "Cinematography",
          "Foreign Language Film",
          "Art Direction",
          "Costume Design",
          "Music (Original Score)",
          "Actress",
          "Actor",
          "Sound",
          "Actress in a Leading Role",
          "Actor in a Leading Role",
          "Music (Original Song)",
          "Music (Song)",
          "Short Film (Live Action)",
          "Short Film (Animated)",
          "Sound Recording",
          "Short Subject (Cartoon)",
          "Cinematography (Black-and-White)",
          "Writing (Original Screenplay)",
          "Music (Music Score of a Dramatic or Comedy Picture)",
          "Visual Effects",
          "Art Direction (Black-and-White)",
          "Cinematography (Color)",
          "Music (Scoring of a Musical Picture)",
          "Writing (Screenplay Written Directly for the Screen)",
          "Art Direction (Color)",
          "Writing (Screenplay)",
          "Outstanding Production",
          "Writing (Adapted Screenplay)",
          "Writing (Screenplay--based on material from another medium)",
          "Special Effects",
          "Short Subject (One-reel)",
          "Best Motion Picture",
          "Animated Feature Film",
          "Makeup",
          "Sound Editing",
          "Sound Mixing",
          "Short Subject (Two-reel)",
          "Costume Design (Black-and-White)",
          "Costume Design (Color)",
          "Short Subject (Live Action)",
          "Writing (Screenplay Based on Material from Another Medium)",
          "Music (Scoring)",
          "Writing (Story and Screenplay--written directly for the screen)",
          "Writing (Screenplay Based on Material Previously Produced or Published)",
          "Writing (Original Story)",
          "Production Design",
          "Writing (Motion Picture Story)",
          "Sound Effects Editing",
          "Irving G. Thalberg Memorial Award",
          "Music (Original Dramatic Score)",
          "Makeup and Hairstyling",
          "Writing (Story and Screenplay)",
          "Jean Hersholt Humanitarian Award",
          "Assistant Director",
          "Music (Scoring of Music--adaptation or treatment)",
          "Outstanding Motion Picture",
          "Dance Direction",
          "Documentary",
          "Writing (Original Motion Picture Story)",
          "Music (Song--Original for the Picture)",
          "Music (Music Score--substantially original)",
          "Music (Original Musical or Comedy Score)",
          "Writing (Story and Screenplay--based on factual material or material not previously published or produced)",
          "Music (Music Score of a Dramatic Picture)",
          "Special Award",
          "Writing (Adaptation)",
          "Writing",
          "Special Visual Effects",
          "International Feature Film",
          "Short Subject (Comedy)",
          "Short Subject (Novelty)",
          "Writing (Screenplay Written Directly for the Screen--based on factual material or on story material not previously published or produced)",
          "Music (Score of a Musical Picture--original or adaptation)",
          "Music (Original Score--for a motion picture [not a musical])",
          "Music (Original Music Score)",
          "Writing (Screenplay Adapted from Other Material)",
          "Sound Effects",
          "Short Subject (Animated)",
          "Special Achievement Award (Visual Effects)",
          "Music (Scoring: Original Song Score and Adaptation -or- Scoring: Adaptation)",
          "Outstanding Picture",
          "Music (Original Song Score)",
          "Music (Scoring: Adaptation and Original Song Score)",
          "Music (Original Song Score and Its Adaptation or Adaptation Score)",
          "Music (Original Song Score and Its Adaptation -or- Adaptation Score)",
          "Short Subject (Color)",
          "Honorary Award",
          "Writing (Screenplay--Original)",
          "Writing (Screenplay--Adapted)",
          "Writing (Story and Screenplay--based on material not previously published or produced)",
          "Honorary Foreign Language Film Award",
          "Special Achievement Award (Sound Effects Editing)",
          "Short Film (Dramatic Live Action)",
          "Engineering Effects",
          "Special Achievement Award",
          "Music (Original Song Score or Adaptation Score)",
          "Unique and Artistic Picture",
          "Music (Adaptation Score)",
          "Writing (Title Writing)",
          "Directing (Dramatic Picture)",
          "Special Foreign Language Film Award",
          "Directing (Comedy Picture)",
          "Special Achievement Award (Sound Editing)",
          "Special Achievement Award (Sound Effects)"
         ],
         "legendgroup": "",
         "name": "",
         "showlegend": true,
         "type": "pie",
         "values": [
          461,
          440,
          430,
          430,
          364,
          351,
          340,
          331,
          314,
          309,
          285,
          260,
          239,
          236,
          235,
          230,
          230,
          224,
          215,
          215,
          205,
          195,
          168,
          152,
          150,
          147,
          145,
          136,
          131,
          127,
          120,
          112,
          104,
          102,
          100,
          95,
          92,
          90,
          90,
          89,
          87,
          86,
          85,
          81,
          77,
          77,
          68,
          65,
          64,
          60,
          55,
          52,
          50,
          48,
          47,
          44,
          40,
          36,
          35,
          35,
          35,
          30,
          30,
          27,
          25,
          25,
          25,
          20,
          20,
          20,
          20,
          20,
          17,
          16,
          16,
          15,
          12,
          12,
          10,
          10,
          10,
          10,
          10,
          10,
          9,
          9,
          9,
          8,
          8,
          8,
          6,
          6,
          6,
          6,
          5,
          5,
          5,
          5,
          4,
          3,
          3,
          3,
          3,
          3,
          3,
          3,
          3,
          2,
          2,
          1,
          1
         ]
        }
       ],
       "layout": {
        "legend": {
         "tracegroupgap": 0
        },
        "template": {
         "data": {
          "bar": [
           {
            "error_x": {
             "color": "#2a3f5f"
            },
            "error_y": {
             "color": "#2a3f5f"
            },
            "marker": {
             "line": {
              "color": "#E5ECF6",
              "width": 0.5
             },
             "pattern": {
              "fillmode": "overlay",
              "size": 10,
              "solidity": 0.2
             }
            },
            "type": "bar"
           }
          ],
          "barpolar": [
           {
            "marker": {
             "line": {
              "color": "#E5ECF6",
              "width": 0.5
             },
             "pattern": {
              "fillmode": "overlay",
              "size": 10,
              "solidity": 0.2
             }
            },
            "type": "barpolar"
           }
          ],
          "carpet": [
           {
            "aaxis": {
             "endlinecolor": "#2a3f5f",
             "gridcolor": "white",
             "linecolor": "white",
             "minorgridcolor": "white",
             "startlinecolor": "#2a3f5f"
            },
            "baxis": {
             "endlinecolor": "#2a3f5f",
             "gridcolor": "white",
             "linecolor": "white",
             "minorgridcolor": "white",
             "startlinecolor": "#2a3f5f"
            },
            "type": "carpet"
           }
          ],
          "choropleth": [
           {
            "colorbar": {
             "outlinewidth": 0,
             "ticks": ""
            },
            "type": "choropleth"
           }
          ],
          "contour": [
           {
            "colorbar": {
             "outlinewidth": 0,
             "ticks": ""
            },
            "colorscale": [
             [
              0,
              "#0d0887"
             ],
             [
              0.1111111111111111,
              "#46039f"
             ],
             [
              0.2222222222222222,
              "#7201a8"
             ],
             [
              0.3333333333333333,
              "#9c179e"
             ],
             [
              0.4444444444444444,
              "#bd3786"
             ],
             [
              0.5555555555555556,
              "#d8576b"
             ],
             [
              0.6666666666666666,
              "#ed7953"
             ],
             [
              0.7777777777777778,
              "#fb9f3a"
             ],
             [
              0.8888888888888888,
              "#fdca26"
             ],
             [
              1,
              "#f0f921"
             ]
            ],
            "type": "contour"
           }
          ],
          "contourcarpet": [
           {
            "colorbar": {
             "outlinewidth": 0,
             "ticks": ""
            },
            "type": "contourcarpet"
           }
          ],
          "heatmap": [
           {
            "colorbar": {
             "outlinewidth": 0,
             "ticks": ""
            },
            "colorscale": [
             [
              0,
              "#0d0887"
             ],
             [
              0.1111111111111111,
              "#46039f"
             ],
             [
              0.2222222222222222,
              "#7201a8"
             ],
             [
              0.3333333333333333,
              "#9c179e"
             ],
             [
              0.4444444444444444,
              "#bd3786"
             ],
             [
              0.5555555555555556,
              "#d8576b"
             ],
             [
              0.6666666666666666,
              "#ed7953"
             ],
             [
              0.7777777777777778,
              "#fb9f3a"
             ],
             [
              0.8888888888888888,
              "#fdca26"
             ],
             [
              1,
              "#f0f921"
             ]
            ],
            "type": "heatmap"
           }
          ],
          "heatmapgl": [
           {
            "colorbar": {
             "outlinewidth": 0,
             "ticks": ""
            },
            "colorscale": [
             [
              0,
              "#0d0887"
             ],
             [
              0.1111111111111111,
              "#46039f"
             ],
             [
              0.2222222222222222,
              "#7201a8"
             ],
             [
              0.3333333333333333,
              "#9c179e"
             ],
             [
              0.4444444444444444,
              "#bd3786"
             ],
             [
              0.5555555555555556,
              "#d8576b"
             ],
             [
              0.6666666666666666,
              "#ed7953"
             ],
             [
              0.7777777777777778,
              "#fb9f3a"
             ],
             [
              0.8888888888888888,
              "#fdca26"
             ],
             [
              1,
              "#f0f921"
             ]
            ],
            "type": "heatmapgl"
           }
          ],
          "histogram": [
           {
            "marker": {
             "pattern": {
              "fillmode": "overlay",
              "size": 10,
              "solidity": 0.2
             }
            },
            "type": "histogram"
           }
          ],
          "histogram2d": [
           {
            "colorbar": {
             "outlinewidth": 0,
             "ticks": ""
            },
            "colorscale": [
             [
              0,
              "#0d0887"
             ],
             [
              0.1111111111111111,
              "#46039f"
             ],
             [
              0.2222222222222222,
              "#7201a8"
             ],
             [
              0.3333333333333333,
              "#9c179e"
             ],
             [
              0.4444444444444444,
              "#bd3786"
             ],
             [
              0.5555555555555556,
              "#d8576b"
             ],
             [
              0.6666666666666666,
              "#ed7953"
             ],
             [
              0.7777777777777778,
              "#fb9f3a"
             ],
             [
              0.8888888888888888,
              "#fdca26"
             ],
             [
              1,
              "#f0f921"
             ]
            ],
            "type": "histogram2d"
           }
          ],
          "histogram2dcontour": [
           {
            "colorbar": {
             "outlinewidth": 0,
             "ticks": ""
            },
            "colorscale": [
             [
              0,
              "#0d0887"
             ],
             [
              0.1111111111111111,
              "#46039f"
             ],
             [
              0.2222222222222222,
              "#7201a8"
             ],
             [
              0.3333333333333333,
              "#9c179e"
             ],
             [
              0.4444444444444444,
              "#bd3786"
             ],
             [
              0.5555555555555556,
              "#d8576b"
             ],
             [
              0.6666666666666666,
              "#ed7953"
             ],
             [
              0.7777777777777778,
              "#fb9f3a"
             ],
             [
              0.8888888888888888,
              "#fdca26"
             ],
             [
              1,
              "#f0f921"
             ]
            ],
            "type": "histogram2dcontour"
           }
          ],
          "mesh3d": [
           {
            "colorbar": {
             "outlinewidth": 0,
             "ticks": ""
            },
            "type": "mesh3d"
           }
          ],
          "parcoords": [
           {
            "line": {
             "colorbar": {
              "outlinewidth": 0,
              "ticks": ""
             }
            },
            "type": "parcoords"
           }
          ],
          "pie": [
           {
            "automargin": true,
            "type": "pie"
           }
          ],
          "scatter": [
           {
            "fillpattern": {
             "fillmode": "overlay",
             "size": 10,
             "solidity": 0.2
            },
            "type": "scatter"
           }
          ],
          "scatter3d": [
           {
            "line": {
             "colorbar": {
              "outlinewidth": 0,
              "ticks": ""
             }
            },
            "marker": {
             "colorbar": {
              "outlinewidth": 0,
              "ticks": ""
             }
            },
            "type": "scatter3d"
           }
          ],
          "scattercarpet": [
           {
            "marker": {
             "colorbar": {
              "outlinewidth": 0,
              "ticks": ""
             }
            },
            "type": "scattercarpet"
           }
          ],
          "scattergeo": [
           {
            "marker": {
             "colorbar": {
              "outlinewidth": 0,
              "ticks": ""
             }
            },
            "type": "scattergeo"
           }
          ],
          "scattergl": [
           {
            "marker": {
             "colorbar": {
              "outlinewidth": 0,
              "ticks": ""
             }
            },
            "type": "scattergl"
           }
          ],
          "scattermapbox": [
           {
            "marker": {
             "colorbar": {
              "outlinewidth": 0,
              "ticks": ""
             }
            },
            "type": "scattermapbox"
           }
          ],
          "scatterpolar": [
           {
            "marker": {
             "colorbar": {
              "outlinewidth": 0,
              "ticks": ""
             }
            },
            "type": "scatterpolar"
           }
          ],
          "scatterpolargl": [
           {
            "marker": {
             "colorbar": {
              "outlinewidth": 0,
              "ticks": ""
             }
            },
            "type": "scatterpolargl"
           }
          ],
          "scatterternary": [
           {
            "marker": {
             "colorbar": {
              "outlinewidth": 0,
              "ticks": ""
             }
            },
            "type": "scatterternary"
           }
          ],
          "surface": [
           {
            "colorbar": {
             "outlinewidth": 0,
             "ticks": ""
            },
            "colorscale": [
             [
              0,
              "#0d0887"
             ],
             [
              0.1111111111111111,
              "#46039f"
             ],
             [
              0.2222222222222222,
              "#7201a8"
             ],
             [
              0.3333333333333333,
              "#9c179e"
             ],
             [
              0.4444444444444444,
              "#bd3786"
             ],
             [
              0.5555555555555556,
              "#d8576b"
             ],
             [
              0.6666666666666666,
              "#ed7953"
             ],
             [
              0.7777777777777778,
              "#fb9f3a"
             ],
             [
              0.8888888888888888,
              "#fdca26"
             ],
             [
              1,
              "#f0f921"
             ]
            ],
            "type": "surface"
           }
          ],
          "table": [
           {
            "cells": {
             "fill": {
              "color": "#EBF0F8"
             },
             "line": {
              "color": "white"
             }
            },
            "header": {
             "fill": {
              "color": "#C8D4E3"
             },
             "line": {
              "color": "white"
             }
            },
            "type": "table"
           }
          ]
         },
         "layout": {
          "annotationdefaults": {
           "arrowcolor": "#2a3f5f",
           "arrowhead": 0,
           "arrowwidth": 1
          },
          "autotypenumbers": "strict",
          "coloraxis": {
           "colorbar": {
            "outlinewidth": 0,
            "ticks": ""
           }
          },
          "colorscale": {
           "diverging": [
            [
             0,
             "#8e0152"
            ],
            [
             0.1,
             "#c51b7d"
            ],
            [
             0.2,
             "#de77ae"
            ],
            [
             0.3,
             "#f1b6da"
            ],
            [
             0.4,
             "#fde0ef"
            ],
            [
             0.5,
             "#f7f7f7"
            ],
            [
             0.6,
             "#e6f5d0"
            ],
            [
             0.7,
             "#b8e186"
            ],
            [
             0.8,
             "#7fbc41"
            ],
            [
             0.9,
             "#4d9221"
            ],
            [
             1,
             "#276419"
            ]
           ],
           "sequential": [
            [
             0,
             "#0d0887"
            ],
            [
             0.1111111111111111,
             "#46039f"
            ],
            [
             0.2222222222222222,
             "#7201a8"
            ],
            [
             0.3333333333333333,
             "#9c179e"
            ],
            [
             0.4444444444444444,
             "#bd3786"
            ],
            [
             0.5555555555555556,
             "#d8576b"
            ],
            [
             0.6666666666666666,
             "#ed7953"
            ],
            [
             0.7777777777777778,
             "#fb9f3a"
            ],
            [
             0.8888888888888888,
             "#fdca26"
            ],
            [
             1,
             "#f0f921"
            ]
           ],
           "sequentialminus": [
            [
             0,
             "#0d0887"
            ],
            [
             0.1111111111111111,
             "#46039f"
            ],
            [
             0.2222222222222222,
             "#7201a8"
            ],
            [
             0.3333333333333333,
             "#9c179e"
            ],
            [
             0.4444444444444444,
             "#bd3786"
            ],
            [
             0.5555555555555556,
             "#d8576b"
            ],
            [
             0.6666666666666666,
             "#ed7953"
            ],
            [
             0.7777777777777778,
             "#fb9f3a"
            ],
            [
             0.8888888888888888,
             "#fdca26"
            ],
            [
             1,
             "#f0f921"
            ]
           ]
          },
          "colorway": [
           "#636efa",
           "#EF553B",
           "#00cc96",
           "#ab63fa",
           "#FFA15A",
           "#19d3f3",
           "#FF6692",
           "#B6E880",
           "#FF97FF",
           "#FECB52"
          ],
          "font": {
           "color": "#2a3f5f"
          },
          "geo": {
           "bgcolor": "white",
           "lakecolor": "white",
           "landcolor": "#E5ECF6",
           "showlakes": true,
           "showland": true,
           "subunitcolor": "white"
          },
          "hoverlabel": {
           "align": "left"
          },
          "hovermode": "closest",
          "mapbox": {
           "style": "light"
          },
          "paper_bgcolor": "white",
          "plot_bgcolor": "#E5ECF6",
          "polar": {
           "angularaxis": {
            "gridcolor": "white",
            "linecolor": "white",
            "ticks": ""
           },
           "bgcolor": "#E5ECF6",
           "radialaxis": {
            "gridcolor": "white",
            "linecolor": "white",
            "ticks": ""
           }
          },
          "scene": {
           "xaxis": {
            "backgroundcolor": "#E5ECF6",
            "gridcolor": "white",
            "gridwidth": 2,
            "linecolor": "white",
            "showbackground": true,
            "ticks": "",
            "zerolinecolor": "white"
           },
           "yaxis": {
            "backgroundcolor": "#E5ECF6",
            "gridcolor": "white",
            "gridwidth": 2,
            "linecolor": "white",
            "showbackground": true,
            "ticks": "",
            "zerolinecolor": "white"
           },
           "zaxis": {
            "backgroundcolor": "#E5ECF6",
            "gridcolor": "white",
            "gridwidth": 2,
            "linecolor": "white",
            "showbackground": true,
            "ticks": "",
            "zerolinecolor": "white"
           }
          },
          "shapedefaults": {
           "line": {
            "color": "#2a3f5f"
           }
          },
          "ternary": {
           "aaxis": {
            "gridcolor": "white",
            "linecolor": "white",
            "ticks": ""
           },
           "baxis": {
            "gridcolor": "white",
            "linecolor": "white",
            "ticks": ""
           },
           "bgcolor": "#E5ECF6",
           "caxis": {
            "gridcolor": "white",
            "linecolor": "white",
            "ticks": ""
           }
          },
          "title": {
           "x": 0.05
          },
          "xaxis": {
           "automargin": true,
           "gridcolor": "white",
           "linecolor": "white",
           "ticks": "",
           "title": {
            "standoff": 15
           },
           "zerolinecolor": "white",
           "zerolinewidth": 2
          },
          "yaxis": {
           "automargin": true,
           "gridcolor": "white",
           "linecolor": "white",
           "ticks": "",
           "title": {
            "standoff": 15
           },
           "zerolinecolor": "white",
           "zerolinewidth": 2
          }
         }
        },
        "title": {
         "text": "Portion of Awards Categories"
        }
       }
      },
      "text/html": [
       "<div>                            <div id=\"62254002-89d6-43c2-ab7b-3ebdc1604041\" class=\"plotly-graph-div\" style=\"height:525px; width:100%;\"></div>            <script type=\"text/javascript\">                require([\"plotly\"], function(Plotly) {                    window.PLOTLYENV=window.PLOTLYENV || {};                                    if (document.getElementById(\"62254002-89d6-43c2-ab7b-3ebdc1604041\")) {                    Plotly.newPlot(                        \"62254002-89d6-43c2-ab7b-3ebdc1604041\",                        [{\"domain\":{\"x\":[0.0,1.0],\"y\":[0.0,1.0]},\"hovertemplate\":\"index=%{label}<br>award=%{value}<extra></extra>\",\"labels\":[\"Directing\",\"Film Editing\",\"Actress in a Supporting Role\",\"Actor in a Supporting Role\",\"Documentary (Short Subject)\",\"Best Picture\",\"Documentary (Feature)\",\"Cinematography\",\"Foreign Language Film\",\"Art Direction\",\"Costume Design\",\"Music (Original Score)\",\"Actress\",\"Actor\",\"Sound\",\"Actress in a Leading Role\",\"Actor in a Leading Role\",\"Music (Original Song)\",\"Music (Song)\",\"Short Film (Live Action)\",\"Short Film (Animated)\",\"Sound Recording\",\"Short Subject (Cartoon)\",\"Cinematography (Black-and-White)\",\"Writing (Original Screenplay)\",\"Music (Music Score of a Dramatic or Comedy Picture)\",\"Visual Effects\",\"Art Direction (Black-and-White)\",\"Cinematography (Color)\",\"Music (Scoring of a Musical Picture)\",\"Writing (Screenplay Written Directly for the Screen)\",\"Art Direction (Color)\",\"Writing (Screenplay)\",\"Outstanding Production\",\"Writing (Adapted Screenplay)\",\"Writing (Screenplay--based on material from another medium)\",\"Special Effects\",\"Short Subject (One-reel)\",\"Best Motion Picture\",\"Animated Feature Film\",\"Makeup\",\"Sound Editing\",\"Sound Mixing\",\"Short Subject (Two-reel)\",\"Costume Design (Black-and-White)\",\"Costume Design (Color)\",\"Short Subject (Live Action)\",\"Writing (Screenplay Based on Material from Another Medium)\",\"Music (Scoring)\",\"Writing (Story and Screenplay--written directly for the screen)\",\"Writing (Screenplay Based on Material Previously Produced or Published)\",\"Writing (Original Story)\",\"Production Design\",\"Writing (Motion Picture Story)\",\"Sound Effects Editing\",\"Irving G. Thalberg Memorial Award\",\"Music (Original Dramatic Score)\",\"Makeup and Hairstyling\",\"Writing (Story and Screenplay)\",\"Jean Hersholt Humanitarian Award\",\"Assistant Director\",\"Music (Scoring of Music--adaptation or treatment)\",\"Outstanding Motion Picture\",\"Dance Direction\",\"Documentary\",\"Writing (Original Motion Picture Story)\",\"Music (Song--Original for the Picture)\",\"Music (Music Score--substantially original)\",\"Music (Original Musical or Comedy Score)\",\"Writing (Story and Screenplay--based on factual material or material not previously published or produced)\",\"Music (Music Score of a Dramatic Picture)\",\"Special Award\",\"Writing (Adaptation)\",\"Writing\",\"Special Visual Effects\",\"International Feature Film\",\"Short Subject (Comedy)\",\"Short Subject (Novelty)\",\"Writing (Screenplay Written Directly for the Screen--based on factual material or on story material not previously published or produced)\",\"Music (Score of a Musical Picture--original or adaptation)\",\"Music (Original Score--for a motion picture [not a musical])\",\"Music (Original Music Score)\",\"Writing (Screenplay Adapted from Other Material)\",\"Sound Effects\",\"Short Subject (Animated)\",\"Special Achievement Award (Visual Effects)\",\"Music (Scoring: Original Song Score and Adaptation -or- Scoring: Adaptation)\",\"Outstanding Picture\",\"Music (Original Song Score)\",\"Music (Scoring: Adaptation and Original Song Score)\",\"Music (Original Song Score and Its Adaptation or Adaptation Score)\",\"Music (Original Song Score and Its Adaptation -or- Adaptation Score)\",\"Short Subject (Color)\",\"Honorary Award\",\"Writing (Screenplay--Original)\",\"Writing (Screenplay--Adapted)\",\"Writing (Story and Screenplay--based on material not previously published or produced)\",\"Honorary Foreign Language Film Award\",\"Special Achievement Award (Sound Effects Editing)\",\"Short Film (Dramatic Live Action)\",\"Engineering Effects\",\"Special Achievement Award\",\"Music (Original Song Score or Adaptation Score)\",\"Unique and Artistic Picture\",\"Music (Adaptation Score)\",\"Writing (Title Writing)\",\"Directing (Dramatic Picture)\",\"Special Foreign Language Film Award\",\"Directing (Comedy Picture)\",\"Special Achievement Award (Sound Editing)\",\"Special Achievement Award (Sound Effects)\"],\"legendgroup\":\"\",\"name\":\"\",\"showlegend\":true,\"values\":[461,440,430,430,364,351,340,331,314,309,285,260,239,236,235,230,230,224,215,215,205,195,168,152,150,147,145,136,131,127,120,112,104,102,100,95,92,90,90,89,87,86,85,81,77,77,68,65,64,60,55,52,50,48,47,44,40,36,35,35,35,30,30,27,25,25,25,20,20,20,20,20,17,16,16,15,12,12,10,10,10,10,10,10,9,9,9,8,8,8,6,6,6,6,5,5,5,5,4,3,3,3,3,3,3,3,3,2,2,1,1],\"type\":\"pie\"}],                        {\"template\":{\"data\":{\"histogram2dcontour\":[{\"type\":\"histogram2dcontour\",\"colorbar\":{\"outlinewidth\":0,\"ticks\":\"\"},\"colorscale\":[[0.0,\"#0d0887\"],[0.1111111111111111,\"#46039f\"],[0.2222222222222222,\"#7201a8\"],[0.3333333333333333,\"#9c179e\"],[0.4444444444444444,\"#bd3786\"],[0.5555555555555556,\"#d8576b\"],[0.6666666666666666,\"#ed7953\"],[0.7777777777777778,\"#fb9f3a\"],[0.8888888888888888,\"#fdca26\"],[1.0,\"#f0f921\"]]}],\"choropleth\":[{\"type\":\"choropleth\",\"colorbar\":{\"outlinewidth\":0,\"ticks\":\"\"}}],\"histogram2d\":[{\"type\":\"histogram2d\",\"colorbar\":{\"outlinewidth\":0,\"ticks\":\"\"},\"colorscale\":[[0.0,\"#0d0887\"],[0.1111111111111111,\"#46039f\"],[0.2222222222222222,\"#7201a8\"],[0.3333333333333333,\"#9c179e\"],[0.4444444444444444,\"#bd3786\"],[0.5555555555555556,\"#d8576b\"],[0.6666666666666666,\"#ed7953\"],[0.7777777777777778,\"#fb9f3a\"],[0.8888888888888888,\"#fdca26\"],[1.0,\"#f0f921\"]]}],\"heatmap\":[{\"type\":\"heatmap\",\"colorbar\":{\"outlinewidth\":0,\"ticks\":\"\"},\"colorscale\":[[0.0,\"#0d0887\"],[0.1111111111111111,\"#46039f\"],[0.2222222222222222,\"#7201a8\"],[0.3333333333333333,\"#9c179e\"],[0.4444444444444444,\"#bd3786\"],[0.5555555555555556,\"#d8576b\"],[0.6666666666666666,\"#ed7953\"],[0.7777777777777778,\"#fb9f3a\"],[0.8888888888888888,\"#fdca26\"],[1.0,\"#f0f921\"]]}],\"heatmapgl\":[{\"type\":\"heatmapgl\",\"colorbar\":{\"outlinewidth\":0,\"ticks\":\"\"},\"colorscale\":[[0.0,\"#0d0887\"],[0.1111111111111111,\"#46039f\"],[0.2222222222222222,\"#7201a8\"],[0.3333333333333333,\"#9c179e\"],[0.4444444444444444,\"#bd3786\"],[0.5555555555555556,\"#d8576b\"],[0.6666666666666666,\"#ed7953\"],[0.7777777777777778,\"#fb9f3a\"],[0.8888888888888888,\"#fdca26\"],[1.0,\"#f0f921\"]]}],\"contourcarpet\":[{\"type\":\"contourcarpet\",\"colorbar\":{\"outlinewidth\":0,\"ticks\":\"\"}}],\"contour\":[{\"type\":\"contour\",\"colorbar\":{\"outlinewidth\":0,\"ticks\":\"\"},\"colorscale\":[[0.0,\"#0d0887\"],[0.1111111111111111,\"#46039f\"],[0.2222222222222222,\"#7201a8\"],[0.3333333333333333,\"#9c179e\"],[0.4444444444444444,\"#bd3786\"],[0.5555555555555556,\"#d8576b\"],[0.6666666666666666,\"#ed7953\"],[0.7777777777777778,\"#fb9f3a\"],[0.8888888888888888,\"#fdca26\"],[1.0,\"#f0f921\"]]}],\"surface\":[{\"type\":\"surface\",\"colorbar\":{\"outlinewidth\":0,\"ticks\":\"\"},\"colorscale\":[[0.0,\"#0d0887\"],[0.1111111111111111,\"#46039f\"],[0.2222222222222222,\"#7201a8\"],[0.3333333333333333,\"#9c179e\"],[0.4444444444444444,\"#bd3786\"],[0.5555555555555556,\"#d8576b\"],[0.6666666666666666,\"#ed7953\"],[0.7777777777777778,\"#fb9f3a\"],[0.8888888888888888,\"#fdca26\"],[1.0,\"#f0f921\"]]}],\"mesh3d\":[{\"type\":\"mesh3d\",\"colorbar\":{\"outlinewidth\":0,\"ticks\":\"\"}}],\"scatter\":[{\"fillpattern\":{\"fillmode\":\"overlay\",\"size\":10,\"solidity\":0.2},\"type\":\"scatter\"}],\"parcoords\":[{\"type\":\"parcoords\",\"line\":{\"colorbar\":{\"outlinewidth\":0,\"ticks\":\"\"}}}],\"scatterpolargl\":[{\"type\":\"scatterpolargl\",\"marker\":{\"colorbar\":{\"outlinewidth\":0,\"ticks\":\"\"}}}],\"bar\":[{\"error_x\":{\"color\":\"#2a3f5f\"},\"error_y\":{\"color\":\"#2a3f5f\"},\"marker\":{\"line\":{\"color\":\"#E5ECF6\",\"width\":0.5},\"pattern\":{\"fillmode\":\"overlay\",\"size\":10,\"solidity\":0.2}},\"type\":\"bar\"}],\"scattergeo\":[{\"type\":\"scattergeo\",\"marker\":{\"colorbar\":{\"outlinewidth\":0,\"ticks\":\"\"}}}],\"scatterpolar\":[{\"type\":\"scatterpolar\",\"marker\":{\"colorbar\":{\"outlinewidth\":0,\"ticks\":\"\"}}}],\"histogram\":[{\"marker\":{\"pattern\":{\"fillmode\":\"overlay\",\"size\":10,\"solidity\":0.2}},\"type\":\"histogram\"}],\"scattergl\":[{\"type\":\"scattergl\",\"marker\":{\"colorbar\":{\"outlinewidth\":0,\"ticks\":\"\"}}}],\"scatter3d\":[{\"type\":\"scatter3d\",\"line\":{\"colorbar\":{\"outlinewidth\":0,\"ticks\":\"\"}},\"marker\":{\"colorbar\":{\"outlinewidth\":0,\"ticks\":\"\"}}}],\"scattermapbox\":[{\"type\":\"scattermapbox\",\"marker\":{\"colorbar\":{\"outlinewidth\":0,\"ticks\":\"\"}}}],\"scatterternary\":[{\"type\":\"scatterternary\",\"marker\":{\"colorbar\":{\"outlinewidth\":0,\"ticks\":\"\"}}}],\"scattercarpet\":[{\"type\":\"scattercarpet\",\"marker\":{\"colorbar\":{\"outlinewidth\":0,\"ticks\":\"\"}}}],\"carpet\":[{\"aaxis\":{\"endlinecolor\":\"#2a3f5f\",\"gridcolor\":\"white\",\"linecolor\":\"white\",\"minorgridcolor\":\"white\",\"startlinecolor\":\"#2a3f5f\"},\"baxis\":{\"endlinecolor\":\"#2a3f5f\",\"gridcolor\":\"white\",\"linecolor\":\"white\",\"minorgridcolor\":\"white\",\"startlinecolor\":\"#2a3f5f\"},\"type\":\"carpet\"}],\"table\":[{\"cells\":{\"fill\":{\"color\":\"#EBF0F8\"},\"line\":{\"color\":\"white\"}},\"header\":{\"fill\":{\"color\":\"#C8D4E3\"},\"line\":{\"color\":\"white\"}},\"type\":\"table\"}],\"barpolar\":[{\"marker\":{\"line\":{\"color\":\"#E5ECF6\",\"width\":0.5},\"pattern\":{\"fillmode\":\"overlay\",\"size\":10,\"solidity\":0.2}},\"type\":\"barpolar\"}],\"pie\":[{\"automargin\":true,\"type\":\"pie\"}]},\"layout\":{\"autotypenumbers\":\"strict\",\"colorway\":[\"#636efa\",\"#EF553B\",\"#00cc96\",\"#ab63fa\",\"#FFA15A\",\"#19d3f3\",\"#FF6692\",\"#B6E880\",\"#FF97FF\",\"#FECB52\"],\"font\":{\"color\":\"#2a3f5f\"},\"hovermode\":\"closest\",\"hoverlabel\":{\"align\":\"left\"},\"paper_bgcolor\":\"white\",\"plot_bgcolor\":\"#E5ECF6\",\"polar\":{\"bgcolor\":\"#E5ECF6\",\"angularaxis\":{\"gridcolor\":\"white\",\"linecolor\":\"white\",\"ticks\":\"\"},\"radialaxis\":{\"gridcolor\":\"white\",\"linecolor\":\"white\",\"ticks\":\"\"}},\"ternary\":{\"bgcolor\":\"#E5ECF6\",\"aaxis\":{\"gridcolor\":\"white\",\"linecolor\":\"white\",\"ticks\":\"\"},\"baxis\":{\"gridcolor\":\"white\",\"linecolor\":\"white\",\"ticks\":\"\"},\"caxis\":{\"gridcolor\":\"white\",\"linecolor\":\"white\",\"ticks\":\"\"}},\"coloraxis\":{\"colorbar\":{\"outlinewidth\":0,\"ticks\":\"\"}},\"colorscale\":{\"sequential\":[[0.0,\"#0d0887\"],[0.1111111111111111,\"#46039f\"],[0.2222222222222222,\"#7201a8\"],[0.3333333333333333,\"#9c179e\"],[0.4444444444444444,\"#bd3786\"],[0.5555555555555556,\"#d8576b\"],[0.6666666666666666,\"#ed7953\"],[0.7777777777777778,\"#fb9f3a\"],[0.8888888888888888,\"#fdca26\"],[1.0,\"#f0f921\"]],\"sequentialminus\":[[0.0,\"#0d0887\"],[0.1111111111111111,\"#46039f\"],[0.2222222222222222,\"#7201a8\"],[0.3333333333333333,\"#9c179e\"],[0.4444444444444444,\"#bd3786\"],[0.5555555555555556,\"#d8576b\"],[0.6666666666666666,\"#ed7953\"],[0.7777777777777778,\"#fb9f3a\"],[0.8888888888888888,\"#fdca26\"],[1.0,\"#f0f921\"]],\"diverging\":[[0,\"#8e0152\"],[0.1,\"#c51b7d\"],[0.2,\"#de77ae\"],[0.3,\"#f1b6da\"],[0.4,\"#fde0ef\"],[0.5,\"#f7f7f7\"],[0.6,\"#e6f5d0\"],[0.7,\"#b8e186\"],[0.8,\"#7fbc41\"],[0.9,\"#4d9221\"],[1,\"#276419\"]]},\"xaxis\":{\"gridcolor\":\"white\",\"linecolor\":\"white\",\"ticks\":\"\",\"title\":{\"standoff\":15},\"zerolinecolor\":\"white\",\"automargin\":true,\"zerolinewidth\":2},\"yaxis\":{\"gridcolor\":\"white\",\"linecolor\":\"white\",\"ticks\":\"\",\"title\":{\"standoff\":15},\"zerolinecolor\":\"white\",\"automargin\":true,\"zerolinewidth\":2},\"scene\":{\"xaxis\":{\"backgroundcolor\":\"#E5ECF6\",\"gridcolor\":\"white\",\"linecolor\":\"white\",\"showbackground\":true,\"ticks\":\"\",\"zerolinecolor\":\"white\",\"gridwidth\":2},\"yaxis\":{\"backgroundcolor\":\"#E5ECF6\",\"gridcolor\":\"white\",\"linecolor\":\"white\",\"showbackground\":true,\"ticks\":\"\",\"zerolinecolor\":\"white\",\"gridwidth\":2},\"zaxis\":{\"backgroundcolor\":\"#E5ECF6\",\"gridcolor\":\"white\",\"linecolor\":\"white\",\"showbackground\":true,\"ticks\":\"\",\"zerolinecolor\":\"white\",\"gridwidth\":2}},\"shapedefaults\":{\"line\":{\"color\":\"#2a3f5f\"}},\"annotationdefaults\":{\"arrowcolor\":\"#2a3f5f\",\"arrowhead\":0,\"arrowwidth\":1},\"geo\":{\"bgcolor\":\"white\",\"landcolor\":\"#E5ECF6\",\"subunitcolor\":\"white\",\"showland\":true,\"showlakes\":true,\"lakecolor\":\"white\"},\"title\":{\"x\":0.05},\"mapbox\":{\"style\":\"light\"}}},\"legend\":{\"tracegroupgap\":0},\"title\":{\"text\":\"Portion of Awards Categories\"}},                        {\"responsive\": true}                    ).then(function(){\n",
       "                            \n",
       "var gd = document.getElementById('62254002-89d6-43c2-ab7b-3ebdc1604041');\n",
       "var x = new MutationObserver(function (mutations, observer) {{\n",
       "        var display = window.getComputedStyle(gd).display;\n",
       "        if (!display || display === 'none') {{\n",
       "            console.log([gd, 'removed!']);\n",
       "            Plotly.purge(gd);\n",
       "            observer.disconnect();\n",
       "        }}\n",
       "}});\n",
       "\n",
       "// Listen for the removal of the full notebook cells\n",
       "var notebookContainer = gd.closest('#notebook-container');\n",
       "if (notebookContainer) {{\n",
       "    x.observe(notebookContainer, {childList: true});\n",
       "}}\n",
       "\n",
       "// Listen for the clearing of the current output cell\n",
       "var outputEl = gd.closest('.output');\n",
       "if (outputEl) {{\n",
       "    x.observe(outputEl, {childList: true});\n",
       "}}\n",
       "\n",
       "                        })                };                });            </script>        </div>"
      ]
     },
     "metadata": {},
     "output_type": "display_data"
    }
   ],
   "source": [
    "fig = px.pie(df00, values='award', names='index', title='Portion of Awards Categories')\n",
    "fig.show()"
   ]
  },
  {
   "cell_type": "code",
   "execution_count": 246,
   "metadata": {
    "scrolled": true
   },
   "outputs": [
    {
     "data": {
      "text/html": [
       "<div>\n",
       "<style scoped>\n",
       "    .dataframe tbody tr th:only-of-type {\n",
       "        vertical-align: middle;\n",
       "    }\n",
       "\n",
       "    .dataframe tbody tr th {\n",
       "        vertical-align: top;\n",
       "    }\n",
       "\n",
       "    .dataframe thead th {\n",
       "        text-align: right;\n",
       "    }\n",
       "</style>\n",
       "<table border=\"1\" class=\"dataframe\">\n",
       "  <thead>\n",
       "    <tr style=\"text-align: right;\">\n",
       "      <th></th>\n",
       "      <th>index</th>\n",
       "      <th>status</th>\n",
       "    </tr>\n",
       "  </thead>\n",
       "  <tbody>\n",
       "    <tr>\n",
       "      <th>0</th>\n",
       "      <td>nominee</td>\n",
       "      <td>78.488761</td>\n",
       "    </tr>\n",
       "    <tr>\n",
       "      <th>1</th>\n",
       "      <td>winner</td>\n",
       "      <td>21.511239</td>\n",
       "    </tr>\n",
       "  </tbody>\n",
       "</table>\n",
       "</div>"
      ],
      "text/plain": [
       "     index     status\n",
       "0  nominee  78.488761\n",
       "1   winner  21.511239"
      ]
     },
     "execution_count": 246,
     "metadata": {},
     "output_type": "execute_result"
    }
   ],
   "source": [
    "# count the percentage of winners and nominees\n",
    "df0=df_award['status'].value_counts(normalize=True)*100\n",
    "df00=pd.DataFrame(df0).reset_index()\n",
    "df00"
   ]
  },
  {
   "cell_type": "code",
   "execution_count": 249,
   "metadata": {},
   "outputs": [
    {
     "data": {
      "application/vnd.plotly.v1+json": {
       "config": {
        "plotlyServerURL": "https://plot.ly"
       },
       "data": [
        {
         "domain": {
          "x": [
           0,
           1
          ],
          "y": [
           0,
           1
          ]
         },
         "hovertemplate": "index=%{label}<br>status=%{value}<extra></extra>",
         "labels": [
          "nominee",
          "winner"
         ],
         "legendgroup": "",
         "name": "",
         "showlegend": true,
         "type": "pie",
         "values": [
          78.48876135820181,
          21.511238641798183
         ]
        }
       ],
       "layout": {
        "legend": {
         "tracegroupgap": 0
        },
        "template": {
         "data": {
          "bar": [
           {
            "error_x": {
             "color": "#2a3f5f"
            },
            "error_y": {
             "color": "#2a3f5f"
            },
            "marker": {
             "line": {
              "color": "#E5ECF6",
              "width": 0.5
             },
             "pattern": {
              "fillmode": "overlay",
              "size": 10,
              "solidity": 0.2
             }
            },
            "type": "bar"
           }
          ],
          "barpolar": [
           {
            "marker": {
             "line": {
              "color": "#E5ECF6",
              "width": 0.5
             },
             "pattern": {
              "fillmode": "overlay",
              "size": 10,
              "solidity": 0.2
             }
            },
            "type": "barpolar"
           }
          ],
          "carpet": [
           {
            "aaxis": {
             "endlinecolor": "#2a3f5f",
             "gridcolor": "white",
             "linecolor": "white",
             "minorgridcolor": "white",
             "startlinecolor": "#2a3f5f"
            },
            "baxis": {
             "endlinecolor": "#2a3f5f",
             "gridcolor": "white",
             "linecolor": "white",
             "minorgridcolor": "white",
             "startlinecolor": "#2a3f5f"
            },
            "type": "carpet"
           }
          ],
          "choropleth": [
           {
            "colorbar": {
             "outlinewidth": 0,
             "ticks": ""
            },
            "type": "choropleth"
           }
          ],
          "contour": [
           {
            "colorbar": {
             "outlinewidth": 0,
             "ticks": ""
            },
            "colorscale": [
             [
              0,
              "#0d0887"
             ],
             [
              0.1111111111111111,
              "#46039f"
             ],
             [
              0.2222222222222222,
              "#7201a8"
             ],
             [
              0.3333333333333333,
              "#9c179e"
             ],
             [
              0.4444444444444444,
              "#bd3786"
             ],
             [
              0.5555555555555556,
              "#d8576b"
             ],
             [
              0.6666666666666666,
              "#ed7953"
             ],
             [
              0.7777777777777778,
              "#fb9f3a"
             ],
             [
              0.8888888888888888,
              "#fdca26"
             ],
             [
              1,
              "#f0f921"
             ]
            ],
            "type": "contour"
           }
          ],
          "contourcarpet": [
           {
            "colorbar": {
             "outlinewidth": 0,
             "ticks": ""
            },
            "type": "contourcarpet"
           }
          ],
          "heatmap": [
           {
            "colorbar": {
             "outlinewidth": 0,
             "ticks": ""
            },
            "colorscale": [
             [
              0,
              "#0d0887"
             ],
             [
              0.1111111111111111,
              "#46039f"
             ],
             [
              0.2222222222222222,
              "#7201a8"
             ],
             [
              0.3333333333333333,
              "#9c179e"
             ],
             [
              0.4444444444444444,
              "#bd3786"
             ],
             [
              0.5555555555555556,
              "#d8576b"
             ],
             [
              0.6666666666666666,
              "#ed7953"
             ],
             [
              0.7777777777777778,
              "#fb9f3a"
             ],
             [
              0.8888888888888888,
              "#fdca26"
             ],
             [
              1,
              "#f0f921"
             ]
            ],
            "type": "heatmap"
           }
          ],
          "heatmapgl": [
           {
            "colorbar": {
             "outlinewidth": 0,
             "ticks": ""
            },
            "colorscale": [
             [
              0,
              "#0d0887"
             ],
             [
              0.1111111111111111,
              "#46039f"
             ],
             [
              0.2222222222222222,
              "#7201a8"
             ],
             [
              0.3333333333333333,
              "#9c179e"
             ],
             [
              0.4444444444444444,
              "#bd3786"
             ],
             [
              0.5555555555555556,
              "#d8576b"
             ],
             [
              0.6666666666666666,
              "#ed7953"
             ],
             [
              0.7777777777777778,
              "#fb9f3a"
             ],
             [
              0.8888888888888888,
              "#fdca26"
             ],
             [
              1,
              "#f0f921"
             ]
            ],
            "type": "heatmapgl"
           }
          ],
          "histogram": [
           {
            "marker": {
             "pattern": {
              "fillmode": "overlay",
              "size": 10,
              "solidity": 0.2
             }
            },
            "type": "histogram"
           }
          ],
          "histogram2d": [
           {
            "colorbar": {
             "outlinewidth": 0,
             "ticks": ""
            },
            "colorscale": [
             [
              0,
              "#0d0887"
             ],
             [
              0.1111111111111111,
              "#46039f"
             ],
             [
              0.2222222222222222,
              "#7201a8"
             ],
             [
              0.3333333333333333,
              "#9c179e"
             ],
             [
              0.4444444444444444,
              "#bd3786"
             ],
             [
              0.5555555555555556,
              "#d8576b"
             ],
             [
              0.6666666666666666,
              "#ed7953"
             ],
             [
              0.7777777777777778,
              "#fb9f3a"
             ],
             [
              0.8888888888888888,
              "#fdca26"
             ],
             [
              1,
              "#f0f921"
             ]
            ],
            "type": "histogram2d"
           }
          ],
          "histogram2dcontour": [
           {
            "colorbar": {
             "outlinewidth": 0,
             "ticks": ""
            },
            "colorscale": [
             [
              0,
              "#0d0887"
             ],
             [
              0.1111111111111111,
              "#46039f"
             ],
             [
              0.2222222222222222,
              "#7201a8"
             ],
             [
              0.3333333333333333,
              "#9c179e"
             ],
             [
              0.4444444444444444,
              "#bd3786"
             ],
             [
              0.5555555555555556,
              "#d8576b"
             ],
             [
              0.6666666666666666,
              "#ed7953"
             ],
             [
              0.7777777777777778,
              "#fb9f3a"
             ],
             [
              0.8888888888888888,
              "#fdca26"
             ],
             [
              1,
              "#f0f921"
             ]
            ],
            "type": "histogram2dcontour"
           }
          ],
          "mesh3d": [
           {
            "colorbar": {
             "outlinewidth": 0,
             "ticks": ""
            },
            "type": "mesh3d"
           }
          ],
          "parcoords": [
           {
            "line": {
             "colorbar": {
              "outlinewidth": 0,
              "ticks": ""
             }
            },
            "type": "parcoords"
           }
          ],
          "pie": [
           {
            "automargin": true,
            "type": "pie"
           }
          ],
          "scatter": [
           {
            "fillpattern": {
             "fillmode": "overlay",
             "size": 10,
             "solidity": 0.2
            },
            "type": "scatter"
           }
          ],
          "scatter3d": [
           {
            "line": {
             "colorbar": {
              "outlinewidth": 0,
              "ticks": ""
             }
            },
            "marker": {
             "colorbar": {
              "outlinewidth": 0,
              "ticks": ""
             }
            },
            "type": "scatter3d"
           }
          ],
          "scattercarpet": [
           {
            "marker": {
             "colorbar": {
              "outlinewidth": 0,
              "ticks": ""
             }
            },
            "type": "scattercarpet"
           }
          ],
          "scattergeo": [
           {
            "marker": {
             "colorbar": {
              "outlinewidth": 0,
              "ticks": ""
             }
            },
            "type": "scattergeo"
           }
          ],
          "scattergl": [
           {
            "marker": {
             "colorbar": {
              "outlinewidth": 0,
              "ticks": ""
             }
            },
            "type": "scattergl"
           }
          ],
          "scattermapbox": [
           {
            "marker": {
             "colorbar": {
              "outlinewidth": 0,
              "ticks": ""
             }
            },
            "type": "scattermapbox"
           }
          ],
          "scatterpolar": [
           {
            "marker": {
             "colorbar": {
              "outlinewidth": 0,
              "ticks": ""
             }
            },
            "type": "scatterpolar"
           }
          ],
          "scatterpolargl": [
           {
            "marker": {
             "colorbar": {
              "outlinewidth": 0,
              "ticks": ""
             }
            },
            "type": "scatterpolargl"
           }
          ],
          "scatterternary": [
           {
            "marker": {
             "colorbar": {
              "outlinewidth": 0,
              "ticks": ""
             }
            },
            "type": "scatterternary"
           }
          ],
          "surface": [
           {
            "colorbar": {
             "outlinewidth": 0,
             "ticks": ""
            },
            "colorscale": [
             [
              0,
              "#0d0887"
             ],
             [
              0.1111111111111111,
              "#46039f"
             ],
             [
              0.2222222222222222,
              "#7201a8"
             ],
             [
              0.3333333333333333,
              "#9c179e"
             ],
             [
              0.4444444444444444,
              "#bd3786"
             ],
             [
              0.5555555555555556,
              "#d8576b"
             ],
             [
              0.6666666666666666,
              "#ed7953"
             ],
             [
              0.7777777777777778,
              "#fb9f3a"
             ],
             [
              0.8888888888888888,
              "#fdca26"
             ],
             [
              1,
              "#f0f921"
             ]
            ],
            "type": "surface"
           }
          ],
          "table": [
           {
            "cells": {
             "fill": {
              "color": "#EBF0F8"
             },
             "line": {
              "color": "white"
             }
            },
            "header": {
             "fill": {
              "color": "#C8D4E3"
             },
             "line": {
              "color": "white"
             }
            },
            "type": "table"
           }
          ]
         },
         "layout": {
          "annotationdefaults": {
           "arrowcolor": "#2a3f5f",
           "arrowhead": 0,
           "arrowwidth": 1
          },
          "autotypenumbers": "strict",
          "coloraxis": {
           "colorbar": {
            "outlinewidth": 0,
            "ticks": ""
           }
          },
          "colorscale": {
           "diverging": [
            [
             0,
             "#8e0152"
            ],
            [
             0.1,
             "#c51b7d"
            ],
            [
             0.2,
             "#de77ae"
            ],
            [
             0.3,
             "#f1b6da"
            ],
            [
             0.4,
             "#fde0ef"
            ],
            [
             0.5,
             "#f7f7f7"
            ],
            [
             0.6,
             "#e6f5d0"
            ],
            [
             0.7,
             "#b8e186"
            ],
            [
             0.8,
             "#7fbc41"
            ],
            [
             0.9,
             "#4d9221"
            ],
            [
             1,
             "#276419"
            ]
           ],
           "sequential": [
            [
             0,
             "#0d0887"
            ],
            [
             0.1111111111111111,
             "#46039f"
            ],
            [
             0.2222222222222222,
             "#7201a8"
            ],
            [
             0.3333333333333333,
             "#9c179e"
            ],
            [
             0.4444444444444444,
             "#bd3786"
            ],
            [
             0.5555555555555556,
             "#d8576b"
            ],
            [
             0.6666666666666666,
             "#ed7953"
            ],
            [
             0.7777777777777778,
             "#fb9f3a"
            ],
            [
             0.8888888888888888,
             "#fdca26"
            ],
            [
             1,
             "#f0f921"
            ]
           ],
           "sequentialminus": [
            [
             0,
             "#0d0887"
            ],
            [
             0.1111111111111111,
             "#46039f"
            ],
            [
             0.2222222222222222,
             "#7201a8"
            ],
            [
             0.3333333333333333,
             "#9c179e"
            ],
            [
             0.4444444444444444,
             "#bd3786"
            ],
            [
             0.5555555555555556,
             "#d8576b"
            ],
            [
             0.6666666666666666,
             "#ed7953"
            ],
            [
             0.7777777777777778,
             "#fb9f3a"
            ],
            [
             0.8888888888888888,
             "#fdca26"
            ],
            [
             1,
             "#f0f921"
            ]
           ]
          },
          "colorway": [
           "#636efa",
           "#EF553B",
           "#00cc96",
           "#ab63fa",
           "#FFA15A",
           "#19d3f3",
           "#FF6692",
           "#B6E880",
           "#FF97FF",
           "#FECB52"
          ],
          "font": {
           "color": "#2a3f5f"
          },
          "geo": {
           "bgcolor": "white",
           "lakecolor": "white",
           "landcolor": "#E5ECF6",
           "showlakes": true,
           "showland": true,
           "subunitcolor": "white"
          },
          "hoverlabel": {
           "align": "left"
          },
          "hovermode": "closest",
          "mapbox": {
           "style": "light"
          },
          "paper_bgcolor": "white",
          "plot_bgcolor": "#E5ECF6",
          "polar": {
           "angularaxis": {
            "gridcolor": "white",
            "linecolor": "white",
            "ticks": ""
           },
           "bgcolor": "#E5ECF6",
           "radialaxis": {
            "gridcolor": "white",
            "linecolor": "white",
            "ticks": ""
           }
          },
          "scene": {
           "xaxis": {
            "backgroundcolor": "#E5ECF6",
            "gridcolor": "white",
            "gridwidth": 2,
            "linecolor": "white",
            "showbackground": true,
            "ticks": "",
            "zerolinecolor": "white"
           },
           "yaxis": {
            "backgroundcolor": "#E5ECF6",
            "gridcolor": "white",
            "gridwidth": 2,
            "linecolor": "white",
            "showbackground": true,
            "ticks": "",
            "zerolinecolor": "white"
           },
           "zaxis": {
            "backgroundcolor": "#E5ECF6",
            "gridcolor": "white",
            "gridwidth": 2,
            "linecolor": "white",
            "showbackground": true,
            "ticks": "",
            "zerolinecolor": "white"
           }
          },
          "shapedefaults": {
           "line": {
            "color": "#2a3f5f"
           }
          },
          "ternary": {
           "aaxis": {
            "gridcolor": "white",
            "linecolor": "white",
            "ticks": ""
           },
           "baxis": {
            "gridcolor": "white",
            "linecolor": "white",
            "ticks": ""
           },
           "bgcolor": "#E5ECF6",
           "caxis": {
            "gridcolor": "white",
            "linecolor": "white",
            "ticks": ""
           }
          },
          "title": {
           "x": 0.05
          },
          "xaxis": {
           "automargin": true,
           "gridcolor": "white",
           "linecolor": "white",
           "ticks": "",
           "title": {
            "standoff": 15
           },
           "zerolinecolor": "white",
           "zerolinewidth": 2
          },
          "yaxis": {
           "automargin": true,
           "gridcolor": "white",
           "linecolor": "white",
           "ticks": "",
           "title": {
            "standoff": 15
           },
           "zerolinecolor": "white",
           "zerolinewidth": 2
          }
         }
        },
        "title": {
         "text": "Portion of Awards: Winner vs Nominee"
        }
       }
      },
      "text/html": [
       "<div>                            <div id=\"09100138-b029-4219-8a18-14af590bd49d\" class=\"plotly-graph-div\" style=\"height:525px; width:100%;\"></div>            <script type=\"text/javascript\">                require([\"plotly\"], function(Plotly) {                    window.PLOTLYENV=window.PLOTLYENV || {};                                    if (document.getElementById(\"09100138-b029-4219-8a18-14af590bd49d\")) {                    Plotly.newPlot(                        \"09100138-b029-4219-8a18-14af590bd49d\",                        [{\"domain\":{\"x\":[0.0,1.0],\"y\":[0.0,1.0]},\"hovertemplate\":\"index=%{label}<br>status=%{value}<extra></extra>\",\"labels\":[\"nominee\",\"winner\"],\"legendgroup\":\"\",\"name\":\"\",\"showlegend\":true,\"values\":[78.48876135820181,21.511238641798183],\"type\":\"pie\"}],                        {\"template\":{\"data\":{\"histogram2dcontour\":[{\"type\":\"histogram2dcontour\",\"colorbar\":{\"outlinewidth\":0,\"ticks\":\"\"},\"colorscale\":[[0.0,\"#0d0887\"],[0.1111111111111111,\"#46039f\"],[0.2222222222222222,\"#7201a8\"],[0.3333333333333333,\"#9c179e\"],[0.4444444444444444,\"#bd3786\"],[0.5555555555555556,\"#d8576b\"],[0.6666666666666666,\"#ed7953\"],[0.7777777777777778,\"#fb9f3a\"],[0.8888888888888888,\"#fdca26\"],[1.0,\"#f0f921\"]]}],\"choropleth\":[{\"type\":\"choropleth\",\"colorbar\":{\"outlinewidth\":0,\"ticks\":\"\"}}],\"histogram2d\":[{\"type\":\"histogram2d\",\"colorbar\":{\"outlinewidth\":0,\"ticks\":\"\"},\"colorscale\":[[0.0,\"#0d0887\"],[0.1111111111111111,\"#46039f\"],[0.2222222222222222,\"#7201a8\"],[0.3333333333333333,\"#9c179e\"],[0.4444444444444444,\"#bd3786\"],[0.5555555555555556,\"#d8576b\"],[0.6666666666666666,\"#ed7953\"],[0.7777777777777778,\"#fb9f3a\"],[0.8888888888888888,\"#fdca26\"],[1.0,\"#f0f921\"]]}],\"heatmap\":[{\"type\":\"heatmap\",\"colorbar\":{\"outlinewidth\":0,\"ticks\":\"\"},\"colorscale\":[[0.0,\"#0d0887\"],[0.1111111111111111,\"#46039f\"],[0.2222222222222222,\"#7201a8\"],[0.3333333333333333,\"#9c179e\"],[0.4444444444444444,\"#bd3786\"],[0.5555555555555556,\"#d8576b\"],[0.6666666666666666,\"#ed7953\"],[0.7777777777777778,\"#fb9f3a\"],[0.8888888888888888,\"#fdca26\"],[1.0,\"#f0f921\"]]}],\"heatmapgl\":[{\"type\":\"heatmapgl\",\"colorbar\":{\"outlinewidth\":0,\"ticks\":\"\"},\"colorscale\":[[0.0,\"#0d0887\"],[0.1111111111111111,\"#46039f\"],[0.2222222222222222,\"#7201a8\"],[0.3333333333333333,\"#9c179e\"],[0.4444444444444444,\"#bd3786\"],[0.5555555555555556,\"#d8576b\"],[0.6666666666666666,\"#ed7953\"],[0.7777777777777778,\"#fb9f3a\"],[0.8888888888888888,\"#fdca26\"],[1.0,\"#f0f921\"]]}],\"contourcarpet\":[{\"type\":\"contourcarpet\",\"colorbar\":{\"outlinewidth\":0,\"ticks\":\"\"}}],\"contour\":[{\"type\":\"contour\",\"colorbar\":{\"outlinewidth\":0,\"ticks\":\"\"},\"colorscale\":[[0.0,\"#0d0887\"],[0.1111111111111111,\"#46039f\"],[0.2222222222222222,\"#7201a8\"],[0.3333333333333333,\"#9c179e\"],[0.4444444444444444,\"#bd3786\"],[0.5555555555555556,\"#d8576b\"],[0.6666666666666666,\"#ed7953\"],[0.7777777777777778,\"#fb9f3a\"],[0.8888888888888888,\"#fdca26\"],[1.0,\"#f0f921\"]]}],\"surface\":[{\"type\":\"surface\",\"colorbar\":{\"outlinewidth\":0,\"ticks\":\"\"},\"colorscale\":[[0.0,\"#0d0887\"],[0.1111111111111111,\"#46039f\"],[0.2222222222222222,\"#7201a8\"],[0.3333333333333333,\"#9c179e\"],[0.4444444444444444,\"#bd3786\"],[0.5555555555555556,\"#d8576b\"],[0.6666666666666666,\"#ed7953\"],[0.7777777777777778,\"#fb9f3a\"],[0.8888888888888888,\"#fdca26\"],[1.0,\"#f0f921\"]]}],\"mesh3d\":[{\"type\":\"mesh3d\",\"colorbar\":{\"outlinewidth\":0,\"ticks\":\"\"}}],\"scatter\":[{\"fillpattern\":{\"fillmode\":\"overlay\",\"size\":10,\"solidity\":0.2},\"type\":\"scatter\"}],\"parcoords\":[{\"type\":\"parcoords\",\"line\":{\"colorbar\":{\"outlinewidth\":0,\"ticks\":\"\"}}}],\"scatterpolargl\":[{\"type\":\"scatterpolargl\",\"marker\":{\"colorbar\":{\"outlinewidth\":0,\"ticks\":\"\"}}}],\"bar\":[{\"error_x\":{\"color\":\"#2a3f5f\"},\"error_y\":{\"color\":\"#2a3f5f\"},\"marker\":{\"line\":{\"color\":\"#E5ECF6\",\"width\":0.5},\"pattern\":{\"fillmode\":\"overlay\",\"size\":10,\"solidity\":0.2}},\"type\":\"bar\"}],\"scattergeo\":[{\"type\":\"scattergeo\",\"marker\":{\"colorbar\":{\"outlinewidth\":0,\"ticks\":\"\"}}}],\"scatterpolar\":[{\"type\":\"scatterpolar\",\"marker\":{\"colorbar\":{\"outlinewidth\":0,\"ticks\":\"\"}}}],\"histogram\":[{\"marker\":{\"pattern\":{\"fillmode\":\"overlay\",\"size\":10,\"solidity\":0.2}},\"type\":\"histogram\"}],\"scattergl\":[{\"type\":\"scattergl\",\"marker\":{\"colorbar\":{\"outlinewidth\":0,\"ticks\":\"\"}}}],\"scatter3d\":[{\"type\":\"scatter3d\",\"line\":{\"colorbar\":{\"outlinewidth\":0,\"ticks\":\"\"}},\"marker\":{\"colorbar\":{\"outlinewidth\":0,\"ticks\":\"\"}}}],\"scattermapbox\":[{\"type\":\"scattermapbox\",\"marker\":{\"colorbar\":{\"outlinewidth\":0,\"ticks\":\"\"}}}],\"scatterternary\":[{\"type\":\"scatterternary\",\"marker\":{\"colorbar\":{\"outlinewidth\":0,\"ticks\":\"\"}}}],\"scattercarpet\":[{\"type\":\"scattercarpet\",\"marker\":{\"colorbar\":{\"outlinewidth\":0,\"ticks\":\"\"}}}],\"carpet\":[{\"aaxis\":{\"endlinecolor\":\"#2a3f5f\",\"gridcolor\":\"white\",\"linecolor\":\"white\",\"minorgridcolor\":\"white\",\"startlinecolor\":\"#2a3f5f\"},\"baxis\":{\"endlinecolor\":\"#2a3f5f\",\"gridcolor\":\"white\",\"linecolor\":\"white\",\"minorgridcolor\":\"white\",\"startlinecolor\":\"#2a3f5f\"},\"type\":\"carpet\"}],\"table\":[{\"cells\":{\"fill\":{\"color\":\"#EBF0F8\"},\"line\":{\"color\":\"white\"}},\"header\":{\"fill\":{\"color\":\"#C8D4E3\"},\"line\":{\"color\":\"white\"}},\"type\":\"table\"}],\"barpolar\":[{\"marker\":{\"line\":{\"color\":\"#E5ECF6\",\"width\":0.5},\"pattern\":{\"fillmode\":\"overlay\",\"size\":10,\"solidity\":0.2}},\"type\":\"barpolar\"}],\"pie\":[{\"automargin\":true,\"type\":\"pie\"}]},\"layout\":{\"autotypenumbers\":\"strict\",\"colorway\":[\"#636efa\",\"#EF553B\",\"#00cc96\",\"#ab63fa\",\"#FFA15A\",\"#19d3f3\",\"#FF6692\",\"#B6E880\",\"#FF97FF\",\"#FECB52\"],\"font\":{\"color\":\"#2a3f5f\"},\"hovermode\":\"closest\",\"hoverlabel\":{\"align\":\"left\"},\"paper_bgcolor\":\"white\",\"plot_bgcolor\":\"#E5ECF6\",\"polar\":{\"bgcolor\":\"#E5ECF6\",\"angularaxis\":{\"gridcolor\":\"white\",\"linecolor\":\"white\",\"ticks\":\"\"},\"radialaxis\":{\"gridcolor\":\"white\",\"linecolor\":\"white\",\"ticks\":\"\"}},\"ternary\":{\"bgcolor\":\"#E5ECF6\",\"aaxis\":{\"gridcolor\":\"white\",\"linecolor\":\"white\",\"ticks\":\"\"},\"baxis\":{\"gridcolor\":\"white\",\"linecolor\":\"white\",\"ticks\":\"\"},\"caxis\":{\"gridcolor\":\"white\",\"linecolor\":\"white\",\"ticks\":\"\"}},\"coloraxis\":{\"colorbar\":{\"outlinewidth\":0,\"ticks\":\"\"}},\"colorscale\":{\"sequential\":[[0.0,\"#0d0887\"],[0.1111111111111111,\"#46039f\"],[0.2222222222222222,\"#7201a8\"],[0.3333333333333333,\"#9c179e\"],[0.4444444444444444,\"#bd3786\"],[0.5555555555555556,\"#d8576b\"],[0.6666666666666666,\"#ed7953\"],[0.7777777777777778,\"#fb9f3a\"],[0.8888888888888888,\"#fdca26\"],[1.0,\"#f0f921\"]],\"sequentialminus\":[[0.0,\"#0d0887\"],[0.1111111111111111,\"#46039f\"],[0.2222222222222222,\"#7201a8\"],[0.3333333333333333,\"#9c179e\"],[0.4444444444444444,\"#bd3786\"],[0.5555555555555556,\"#d8576b\"],[0.6666666666666666,\"#ed7953\"],[0.7777777777777778,\"#fb9f3a\"],[0.8888888888888888,\"#fdca26\"],[1.0,\"#f0f921\"]],\"diverging\":[[0,\"#8e0152\"],[0.1,\"#c51b7d\"],[0.2,\"#de77ae\"],[0.3,\"#f1b6da\"],[0.4,\"#fde0ef\"],[0.5,\"#f7f7f7\"],[0.6,\"#e6f5d0\"],[0.7,\"#b8e186\"],[0.8,\"#7fbc41\"],[0.9,\"#4d9221\"],[1,\"#276419\"]]},\"xaxis\":{\"gridcolor\":\"white\",\"linecolor\":\"white\",\"ticks\":\"\",\"title\":{\"standoff\":15},\"zerolinecolor\":\"white\",\"automargin\":true,\"zerolinewidth\":2},\"yaxis\":{\"gridcolor\":\"white\",\"linecolor\":\"white\",\"ticks\":\"\",\"title\":{\"standoff\":15},\"zerolinecolor\":\"white\",\"automargin\":true,\"zerolinewidth\":2},\"scene\":{\"xaxis\":{\"backgroundcolor\":\"#E5ECF6\",\"gridcolor\":\"white\",\"linecolor\":\"white\",\"showbackground\":true,\"ticks\":\"\",\"zerolinecolor\":\"white\",\"gridwidth\":2},\"yaxis\":{\"backgroundcolor\":\"#E5ECF6\",\"gridcolor\":\"white\",\"linecolor\":\"white\",\"showbackground\":true,\"ticks\":\"\",\"zerolinecolor\":\"white\",\"gridwidth\":2},\"zaxis\":{\"backgroundcolor\":\"#E5ECF6\",\"gridcolor\":\"white\",\"linecolor\":\"white\",\"showbackground\":true,\"ticks\":\"\",\"zerolinecolor\":\"white\",\"gridwidth\":2}},\"shapedefaults\":{\"line\":{\"color\":\"#2a3f5f\"}},\"annotationdefaults\":{\"arrowcolor\":\"#2a3f5f\",\"arrowhead\":0,\"arrowwidth\":1},\"geo\":{\"bgcolor\":\"white\",\"landcolor\":\"#E5ECF6\",\"subunitcolor\":\"white\",\"showland\":true,\"showlakes\":true,\"lakecolor\":\"white\"},\"title\":{\"x\":0.05},\"mapbox\":{\"style\":\"light\"}}},\"legend\":{\"tracegroupgap\":0},\"title\":{\"text\":\"Portion of Awards: Winner vs Nominee\"}},                        {\"responsive\": true}                    ).then(function(){\n",
       "                            \n",
       "var gd = document.getElementById('09100138-b029-4219-8a18-14af590bd49d');\n",
       "var x = new MutationObserver(function (mutations, observer) {{\n",
       "        var display = window.getComputedStyle(gd).display;\n",
       "        if (!display || display === 'none') {{\n",
       "            console.log([gd, 'removed!']);\n",
       "            Plotly.purge(gd);\n",
       "            observer.disconnect();\n",
       "        }}\n",
       "}});\n",
       "\n",
       "// Listen for the removal of the full notebook cells\n",
       "var notebookContainer = gd.closest('#notebook-container');\n",
       "if (notebookContainer) {{\n",
       "    x.observe(notebookContainer, {childList: true});\n",
       "}}\n",
       "\n",
       "// Listen for the clearing of the current output cell\n",
       "var outputEl = gd.closest('.output');\n",
       "if (outputEl) {{\n",
       "    x.observe(outputEl, {childList: true});\n",
       "}}\n",
       "\n",
       "                        })                };                });            </script>        </div>"
      ]
     },
     "metadata": {},
     "output_type": "display_data"
    }
   ],
   "source": [
    "fig = px.pie(df00, values='status', names='index', title='Portion of Awards: Winner vs Nominee')\n",
    "fig.show()"
   ]
  },
  {
   "cell_type": "code",
   "execution_count": 254,
   "metadata": {},
   "outputs": [
    {
     "data": {
      "text/html": [
       "<div>\n",
       "<style scoped>\n",
       "    .dataframe tbody tr th:only-of-type {\n",
       "        vertical-align: middle;\n",
       "    }\n",
       "\n",
       "    .dataframe tbody tr th {\n",
       "        vertical-align: top;\n",
       "    }\n",
       "\n",
       "    .dataframe thead th {\n",
       "        text-align: right;\n",
       "    }\n",
       "</style>\n",
       "<table border=\"1\" class=\"dataframe\">\n",
       "  <thead>\n",
       "    <tr style=\"text-align: right;\">\n",
       "      <th>year</th>\n",
       "      <th>1929</th>\n",
       "      <th>1930</th>\n",
       "      <th>1931</th>\n",
       "      <th>1932</th>\n",
       "      <th>1933</th>\n",
       "      <th>1934</th>\n",
       "      <th>1935</th>\n",
       "      <th>1936</th>\n",
       "      <th>1937</th>\n",
       "      <th>1938</th>\n",
       "      <th>...</th>\n",
       "      <th>2013</th>\n",
       "      <th>2014</th>\n",
       "      <th>2015</th>\n",
       "      <th>2016</th>\n",
       "      <th>2017</th>\n",
       "      <th>2018</th>\n",
       "      <th>2019</th>\n",
       "      <th>2020</th>\n",
       "      <th>2021</th>\n",
       "      <th>2022</th>\n",
       "    </tr>\n",
       "    <tr>\n",
       "      <th>status</th>\n",
       "      <th></th>\n",
       "      <th></th>\n",
       "      <th></th>\n",
       "      <th></th>\n",
       "      <th></th>\n",
       "      <th></th>\n",
       "      <th></th>\n",
       "      <th></th>\n",
       "      <th></th>\n",
       "      <th></th>\n",
       "      <th></th>\n",
       "      <th></th>\n",
       "      <th></th>\n",
       "      <th></th>\n",
       "      <th></th>\n",
       "      <th></th>\n",
       "      <th></th>\n",
       "      <th></th>\n",
       "      <th></th>\n",
       "      <th></th>\n",
       "      <th></th>\n",
       "    </tr>\n",
       "  </thead>\n",
       "  <tbody>\n",
       "    <tr>\n",
       "      <th>nominee</th>\n",
       "      <td>23</td>\n",
       "      <td>39</td>\n",
       "      <td>38</td>\n",
       "      <td>35</td>\n",
       "      <td>30</td>\n",
       "      <td>43</td>\n",
       "      <td>47</td>\n",
       "      <td>72</td>\n",
       "      <td>85</td>\n",
       "      <td>98</td>\n",
       "      <td>...</td>\n",
       "      <td>97</td>\n",
       "      <td>97</td>\n",
       "      <td>97</td>\n",
       "      <td>97</td>\n",
       "      <td>98</td>\n",
       "      <td>98</td>\n",
       "      <td>97</td>\n",
       "      <td>100</td>\n",
       "      <td>95</td>\n",
       "      <td>97</td>\n",
       "    </tr>\n",
       "    <tr>\n",
       "      <th>winner</th>\n",
       "      <td>19</td>\n",
       "      <td>7</td>\n",
       "      <td>8</td>\n",
       "      <td>9</td>\n",
       "      <td>13</td>\n",
       "      <td>19</td>\n",
       "      <td>16</td>\n",
       "      <td>18</td>\n",
       "      <td>21</td>\n",
       "      <td>22</td>\n",
       "      <td>...</td>\n",
       "      <td>26</td>\n",
       "      <td>24</td>\n",
       "      <td>24</td>\n",
       "      <td>24</td>\n",
       "      <td>24</td>\n",
       "      <td>24</td>\n",
       "      <td>24</td>\n",
       "      <td>24</td>\n",
       "      <td>23</td>\n",
       "      <td>23</td>\n",
       "    </tr>\n",
       "    <tr>\n",
       "      <th>nomineewinner</th>\n",
       "      <td>42</td>\n",
       "      <td>46</td>\n",
       "      <td>46</td>\n",
       "      <td>44</td>\n",
       "      <td>43</td>\n",
       "      <td>62</td>\n",
       "      <td>63</td>\n",
       "      <td>90</td>\n",
       "      <td>106</td>\n",
       "      <td>120</td>\n",
       "      <td>...</td>\n",
       "      <td>123</td>\n",
       "      <td>121</td>\n",
       "      <td>121</td>\n",
       "      <td>121</td>\n",
       "      <td>122</td>\n",
       "      <td>122</td>\n",
       "      <td>121</td>\n",
       "      <td>124</td>\n",
       "      <td>118</td>\n",
       "      <td>120</td>\n",
       "    </tr>\n",
       "  </tbody>\n",
       "</table>\n",
       "<p>3 rows × 94 columns</p>\n",
       "</div>"
      ],
      "text/plain": [
       "year          1929 1930 1931 1932 1933 1934 1935 1936 1937 1938  ... 2013  \\\n",
       "status                                                           ...        \n",
       "nominee         23   39   38   35   30   43   47   72   85   98  ...   97   \n",
       "winner          19    7    8    9   13   19   16   18   21   22  ...   26   \n",
       "nomineewinner   42   46   46   44   43   62   63   90  106  120  ...  123   \n",
       "\n",
       "year          2014 2015 2016 2017 2018 2019 2020 2021 2022  \n",
       "status                                                      \n",
       "nominee         97   97   97   98   98   97  100   95   97  \n",
       "winner          24   24   24   24   24   24   24   23   23  \n",
       "nomineewinner  121  121  121  122  122  121  124  118  120  \n",
       "\n",
       "[3 rows x 94 columns]"
      ]
     },
     "execution_count": 254,
     "metadata": {},
     "output_type": "execute_result"
    }
   ],
   "source": [
    "# get the number of awards per years\n",
    "df1=df_award.groupby(['status','year'])['award'].aggregate('count').unstack().reset_index()\n",
    "df2 = pd.DataFrame(df1.sum(axis = 0)).transpose()\n",
    "df3 = pd.concat([df1,df2]).set_index('status')\n",
    "df3"
   ]
  },
  {
   "cell_type": "code",
   "execution_count": 255,
   "metadata": {},
   "outputs": [],
   "source": [
    "# set x = years\n",
    "x = df3.columns\n",
    "# get the y1 = number of nominees per years\n",
    "y1 = df3.values[0]\n",
    "# y2 = number of winners per years\n",
    "y2 = df3.values[1]\n",
    "# y3 = number of total awards per years\n",
    "y3 = df3.values[2]"
   ]
  },
  {
   "cell_type": "code",
   "execution_count": 256,
   "metadata": {},
   "outputs": [
    {
     "data": {
      "image/png": "[encoded data removed]",
      "text/plain": [
       "<Figure size 432x288 with 1 Axes>"
      ]
     },
     "metadata": {
      "needs_background": "light"
     },
     "output_type": "display_data"
    }
   ],
   "source": [
    "plt.plot(x,y1,'g--',label='nominees')\n",
    "plt.plot(x,y2,'r--',label='winners')\n",
    "plt.plot(x,y3,'-',label='total')\n",
    "plt.title('Number of Awards')\n",
    "plt.xlabel('Year')\n",
    "plt.ylabel('Number of Awards')\n",
    "plt.legend()\n",
    "plt.tight_layout()"
   ]
  },
  {
   "cell_type": "code",
   "execution_count": 300,
   "metadata": {
    "collapsed": true
   },
   "outputs": [
    {
     "data": {
      "text/html": [
       "<div>\n",
       "<style scoped>\n",
       "    .dataframe tbody tr th:only-of-type {\n",
       "        vertical-align: middle;\n",
       "    }\n",
       "\n",
       "    .dataframe tbody tr th {\n",
       "        vertical-align: top;\n",
       "    }\n",
       "\n",
       "    .dataframe thead th {\n",
       "        text-align: right;\n",
       "    }\n",
       "</style>\n",
       "<table border=\"1\" class=\"dataframe\">\n",
       "  <thead>\n",
       "    <tr style=\"text-align: right;\">\n",
       "      <th>status</th>\n",
       "      <th>nominee</th>\n",
       "      <th>winner</th>\n",
       "    </tr>\n",
       "    <tr>\n",
       "      <th>info1</th>\n",
       "      <th></th>\n",
       "      <th></th>\n",
       "    </tr>\n",
       "  </thead>\n",
       "  <tbody>\n",
       "    <tr>\n",
       "      <th>$1,000 a Minute</th>\n",
       "      <td>1.0</td>\n",
       "      <td>NaN</td>\n",
       "    </tr>\n",
       "    <tr>\n",
       "      <th>'Round Midnight</th>\n",
       "      <td>NaN</td>\n",
       "      <td>1.0</td>\n",
       "    </tr>\n",
       "    <tr>\n",
       "      <th>(A) Torzija [(A) Torsion]</th>\n",
       "      <td>1.0</td>\n",
       "      <td>NaN</td>\n",
       "    </tr>\n",
       "    <tr>\n",
       "      <th>(I'm Gonna) Love Me Again</th>\n",
       "      <td>NaN</td>\n",
       "      <td>1.0</td>\n",
       "    </tr>\n",
       "    <tr>\n",
       "      <th>...And Justice for All</th>\n",
       "      <td>1.0</td>\n",
       "      <td>NaN</td>\n",
       "    </tr>\n",
       "    <tr>\n",
       "      <th>...</th>\n",
       "      <td>...</td>\n",
       "      <td>...</td>\n",
       "    </tr>\n",
       "    <tr>\n",
       "      <th>the accountant</th>\n",
       "      <td>NaN</td>\n",
       "      <td>1.0</td>\n",
       "    </tr>\n",
       "    <tr>\n",
       "      <th>the end</th>\n",
       "      <td>1.0</td>\n",
       "      <td>NaN</td>\n",
       "    </tr>\n",
       "    <tr>\n",
       "      <th>tick, tick...BOOM!</th>\n",
       "      <td>1.0</td>\n",
       "      <td>NaN</td>\n",
       "    </tr>\n",
       "    <tr>\n",
       "      <th>tom thumb</th>\n",
       "      <td>NaN</td>\n",
       "      <td>1.0</td>\n",
       "    </tr>\n",
       "    <tr>\n",
       "      <th>Ådalen '31</th>\n",
       "      <td>1.0</td>\n",
       "      <td>NaN</td>\n",
       "    </tr>\n",
       "  </tbody>\n",
       "</table>\n",
       "<p>5588 rows × 2 columns</p>\n",
       "</div>"
      ],
      "text/plain": [
       "status                     nominee  winner\n",
       "info1                                     \n",
       "$1,000 a Minute                1.0     NaN\n",
       "'Round Midnight                NaN     1.0\n",
       "(A) Torzija [(A) Torsion]      1.0     NaN\n",
       "(I'm Gonna) Love Me Again      NaN     1.0\n",
       "...And Justice for All         1.0     NaN\n",
       "...                            ...     ...\n",
       "the accountant                 NaN     1.0\n",
       "the end                        1.0     NaN\n",
       "tick, tick...BOOM!             1.0     NaN\n",
       "tom thumb                      NaN     1.0\n",
       "Ådalen '31                     1.0     NaN\n",
       "\n",
       "[5588 rows x 2 columns]"
      ]
     },
     "execution_count": 300,
     "metadata": {},
     "output_type": "execute_result"
    }
   ],
   "source": [
    "df1 = df_award.groupby(['info1','status'])['award'].aggregate('count').unstack()\n",
    "df1"
   ]
  },
  {
   "cell_type": "code",
   "execution_count": 301,
   "metadata": {
    "scrolled": true
   },
   "outputs": [
    {
     "data": {
      "text/plain": [
       "info1\n",
       "Meryl Streep                                         18.0\n",
       "A Star Is Born                                       15.0\n",
       "Mutiny on the Bounty                                 11.0\n",
       "True Grit                                             9.0\n",
       "Jack Nicholson                                        9.0\n",
       "Gangs of New York                                     9.0\n",
       "Joker                                                 9.0\n",
       "Bette Davis                                           9.0\n",
       "Master and Commander: The Far Side of the World       8.0\n",
       "The Lord of the Rings: The Fellowship of the Ring     8.0\n",
       "Name: nominee, dtype: float64"
      ]
     },
     "execution_count": 301,
     "metadata": {},
     "output_type": "execute_result"
    }
   ],
   "source": [
    "# top 10 nominees\n",
    "df1['nominee'].dropna().sort_values(ascending=False).head(10)"
   ]
  },
  {
   "cell_type": "code",
   "execution_count": 306,
   "metadata": {},
   "outputs": [
    {
     "data": {
      "text/plain": [
       "info1\n",
       "Titanic                                          12.0\n",
       "The Lord of the Rings: The Return of the King    11.0\n",
       "The Last Emperor                                  9.0\n",
       "Gigi                                              9.0\n",
       "Ben-Hur                                           9.0\n",
       "The English Patient                               8.0\n",
       "West Side Story                                   8.0\n",
       "Slumdog Millionaire                               8.0\n",
       "Star Wars                                         7.0\n",
       "Gravity                                           7.0\n",
       "Name: winner, dtype: float64"
      ]
     },
     "execution_count": 306,
     "metadata": {},
     "output_type": "execute_result"
    }
   ],
   "source": [
    "# top 10 winners\n",
    "df1['winner'].dropna().sort_values(ascending=False).head(10)"
   ]
  },
  {
   "cell_type": "code",
   "execution_count": 274,
   "metadata": {},
   "outputs": [
    {
     "data": {
      "text/plain": [
       "info1\n",
       "Meryl Streep                                         21\n",
       "A Star Is Born                                       18\n",
       "West Side Story                                      15\n",
       "Titanic                                              14\n",
       "Cleopatra                                            13\n",
       "Moulin Rouge                                         12\n",
       "The Lord of the Rings: The Fellowship of the Ring    12\n",
       "Mutiny on the Bounty                                 12\n",
       "Katharine Hepburn                                    12\n",
       "Mary Poppins                                         12\n",
       "Name: award, dtype: int64"
      ]
     },
     "execution_count": 274,
     "metadata": {},
     "output_type": "execute_result"
    }
   ],
   "source": [
    "# find the top 10 nominees (considering both winner and nominee) \n",
    "df_award.groupby('info1')['award'].aggregate('count').sort_values(ascending=False).head(10)"
   ]
  },
  {
   "cell_type": "code",
   "execution_count": 273,
   "metadata": {
    "scrolled": true
   },
   "outputs": [
    {
     "data": {
      "text/html": [
       "<div>\n",
       "<style scoped>\n",
       "    .dataframe tbody tr th:only-of-type {\n",
       "        vertical-align: middle;\n",
       "    }\n",
       "\n",
       "    .dataframe tbody tr th {\n",
       "        vertical-align: top;\n",
       "    }\n",
       "\n",
       "    .dataframe thead th {\n",
       "        text-align: right;\n",
       "    }\n",
       "</style>\n",
       "<table border=\"1\" class=\"dataframe\">\n",
       "  <thead>\n",
       "    <tr style=\"text-align: right;\">\n",
       "      <th></th>\n",
       "      <th>info1</th>\n",
       "      <th>info2</th>\n",
       "      <th>status</th>\n",
       "      <th>award</th>\n",
       "      <th>year</th>\n",
       "    </tr>\n",
       "  </thead>\n",
       "  <tbody>\n",
       "    <tr>\n",
       "      <th>5541</th>\n",
       "      <td>Meryl Streep</td>\n",
       "      <td>The Deer Hunter</td>\n",
       "      <td>nominee</td>\n",
       "      <td>Actress in a Supporting Role</td>\n",
       "      <td>1979</td>\n",
       "    </tr>\n",
       "    <tr>\n",
       "      <th>5639</th>\n",
       "      <td>Meryl Streep</td>\n",
       "      <td>Kramer vs. Kramer</td>\n",
       "      <td>winner</td>\n",
       "      <td>Actress in a Supporting Role</td>\n",
       "      <td>1980</td>\n",
       "    </tr>\n",
       "    <tr>\n",
       "      <th>5844</th>\n",
       "      <td>Meryl Streep</td>\n",
       "      <td>The French Lieutenant's Woman</td>\n",
       "      <td>nominee</td>\n",
       "      <td>Actress in a Leading Role</td>\n",
       "      <td>1982</td>\n",
       "    </tr>\n",
       "    <tr>\n",
       "      <th>5943</th>\n",
       "      <td>Meryl Streep</td>\n",
       "      <td>Sophie's Choice</td>\n",
       "      <td>winner</td>\n",
       "      <td>Actress in a Leading Role</td>\n",
       "      <td>1983</td>\n",
       "    </tr>\n",
       "    <tr>\n",
       "      <th>6055</th>\n",
       "      <td>Meryl Streep</td>\n",
       "      <td>Silkwood</td>\n",
       "      <td>nominee</td>\n",
       "      <td>Actress in a Leading Role</td>\n",
       "      <td>1984</td>\n",
       "    </tr>\n",
       "    <tr>\n",
       "      <th>6267</th>\n",
       "      <td>Meryl Streep</td>\n",
       "      <td>Out of Africa</td>\n",
       "      <td>nominee</td>\n",
       "      <td>Actress in a Leading Role</td>\n",
       "      <td>1986</td>\n",
       "    </tr>\n",
       "    <tr>\n",
       "      <th>6479</th>\n",
       "      <td>Meryl Streep</td>\n",
       "      <td>Ironweed</td>\n",
       "      <td>nominee</td>\n",
       "      <td>Actress in a Leading Role</td>\n",
       "      <td>1988</td>\n",
       "    </tr>\n",
       "    <tr>\n",
       "      <th>6580</th>\n",
       "      <td>Meryl Streep</td>\n",
       "      <td>A Cry in the Dark</td>\n",
       "      <td>nominee</td>\n",
       "      <td>Actress in a Leading Role</td>\n",
       "      <td>1989</td>\n",
       "    </tr>\n",
       "    <tr>\n",
       "      <th>6788</th>\n",
       "      <td>Meryl Streep</td>\n",
       "      <td>Postcards from the Edge</td>\n",
       "      <td>nominee</td>\n",
       "      <td>Actress in a Leading Role</td>\n",
       "      <td>1991</td>\n",
       "    </tr>\n",
       "    <tr>\n",
       "      <th>7329</th>\n",
       "      <td>Meryl Streep</td>\n",
       "      <td>The Bridges of Madison County</td>\n",
       "      <td>nominee</td>\n",
       "      <td>Actress in a Leading Role</td>\n",
       "      <td>1996</td>\n",
       "    </tr>\n",
       "    <tr>\n",
       "      <th>7671</th>\n",
       "      <td>Meryl Streep</td>\n",
       "      <td>One True Thing</td>\n",
       "      <td>nominee</td>\n",
       "      <td>Actress in a Leading Role</td>\n",
       "      <td>1999</td>\n",
       "    </tr>\n",
       "    <tr>\n",
       "      <th>7785</th>\n",
       "      <td>Meryl Streep</td>\n",
       "      <td>Music of the Heart</td>\n",
       "      <td>nominee</td>\n",
       "      <td>Actress in a Leading Role</td>\n",
       "      <td>2000</td>\n",
       "    </tr>\n",
       "    <tr>\n",
       "      <th>8116</th>\n",
       "      <td>Meryl Streep</td>\n",
       "      <td>Adaptation</td>\n",
       "      <td>nominee</td>\n",
       "      <td>Actress in a Supporting Role</td>\n",
       "      <td>2003</td>\n",
       "    </tr>\n",
       "    <tr>\n",
       "      <th>8554</th>\n",
       "      <td>Meryl Streep</td>\n",
       "      <td>The Devil Wears Prada</td>\n",
       "      <td>nominee</td>\n",
       "      <td>Actress in a Leading Role</td>\n",
       "      <td>2007</td>\n",
       "    </tr>\n",
       "    <tr>\n",
       "      <th>8782</th>\n",
       "      <td>Meryl Streep</td>\n",
       "      <td>Doubt</td>\n",
       "      <td>nominee</td>\n",
       "      <td>Actress in a Leading Role</td>\n",
       "      <td>2009</td>\n",
       "    </tr>\n",
       "    <tr>\n",
       "      <th>8894</th>\n",
       "      <td>Meryl Streep</td>\n",
       "      <td>Julie &amp; Julia</td>\n",
       "      <td>nominee</td>\n",
       "      <td>Actress in a Leading Role</td>\n",
       "      <td>2010</td>\n",
       "    </tr>\n",
       "    <tr>\n",
       "      <th>9133</th>\n",
       "      <td>Meryl Streep</td>\n",
       "      <td>The Iron Lady</td>\n",
       "      <td>winner</td>\n",
       "      <td>Actress in a Leading Role</td>\n",
       "      <td>2012</td>\n",
       "    </tr>\n",
       "    <tr>\n",
       "      <th>9379</th>\n",
       "      <td>Meryl Streep</td>\n",
       "      <td>August: Osage County</td>\n",
       "      <td>nominee</td>\n",
       "      <td>Actress in a Leading Role</td>\n",
       "      <td>2014</td>\n",
       "    </tr>\n",
       "    <tr>\n",
       "      <th>9505</th>\n",
       "      <td>Meryl Streep</td>\n",
       "      <td>Into the Woods</td>\n",
       "      <td>nominee</td>\n",
       "      <td>Actress in a Supporting Role</td>\n",
       "      <td>2015</td>\n",
       "    </tr>\n",
       "    <tr>\n",
       "      <th>9742</th>\n",
       "      <td>Meryl Streep</td>\n",
       "      <td>Florence Foster Jenkins</td>\n",
       "      <td>nominee</td>\n",
       "      <td>Actress in a Leading Role</td>\n",
       "      <td>2017</td>\n",
       "    </tr>\n",
       "    <tr>\n",
       "      <th>9864</th>\n",
       "      <td>Meryl Streep</td>\n",
       "      <td>The Post</td>\n",
       "      <td>nominee</td>\n",
       "      <td>Actress in a Leading Role</td>\n",
       "      <td>2018</td>\n",
       "    </tr>\n",
       "  </tbody>\n",
       "</table>\n",
       "</div>"
      ],
      "text/plain": [
       "             info1                          info2   status  \\\n",
       "5541  Meryl Streep                The Deer Hunter  nominee   \n",
       "5639  Meryl Streep              Kramer vs. Kramer   winner   \n",
       "5844  Meryl Streep  The French Lieutenant's Woman  nominee   \n",
       "5943  Meryl Streep                Sophie's Choice   winner   \n",
       "6055  Meryl Streep                       Silkwood  nominee   \n",
       "6267  Meryl Streep                  Out of Africa  nominee   \n",
       "6479  Meryl Streep                       Ironweed  nominee   \n",
       "6580  Meryl Streep              A Cry in the Dark  nominee   \n",
       "6788  Meryl Streep        Postcards from the Edge  nominee   \n",
       "7329  Meryl Streep  The Bridges of Madison County  nominee   \n",
       "7671  Meryl Streep                 One True Thing  nominee   \n",
       "7785  Meryl Streep             Music of the Heart  nominee   \n",
       "8116  Meryl Streep                     Adaptation  nominee   \n",
       "8554  Meryl Streep          The Devil Wears Prada  nominee   \n",
       "8782  Meryl Streep                          Doubt  nominee   \n",
       "8894  Meryl Streep                  Julie & Julia  nominee   \n",
       "9133  Meryl Streep                  The Iron Lady   winner   \n",
       "9379  Meryl Streep           August: Osage County  nominee   \n",
       "9505  Meryl Streep                 Into the Woods  nominee   \n",
       "9742  Meryl Streep        Florence Foster Jenkins  nominee   \n",
       "9864  Meryl Streep                       The Post  nominee   \n",
       "\n",
       "                             award  year  \n",
       "5541  Actress in a Supporting Role  1979  \n",
       "5639  Actress in a Supporting Role  1980  \n",
       "5844     Actress in a Leading Role  1982  \n",
       "5943     Actress in a Leading Role  1983  \n",
       "6055     Actress in a Leading Role  1984  \n",
       "6267     Actress in a Leading Role  1986  \n",
       "6479     Actress in a Leading Role  1988  \n",
       "6580     Actress in a Leading Role  1989  \n",
       "6788     Actress in a Leading Role  1991  \n",
       "7329     Actress in a Leading Role  1996  \n",
       "7671     Actress in a Leading Role  1999  \n",
       "7785     Actress in a Leading Role  2000  \n",
       "8116  Actress in a Supporting Role  2003  \n",
       "8554     Actress in a Leading Role  2007  \n",
       "8782     Actress in a Leading Role  2009  \n",
       "8894     Actress in a Leading Role  2010  \n",
       "9133     Actress in a Leading Role  2012  \n",
       "9379     Actress in a Leading Role  2014  \n",
       "9505  Actress in a Supporting Role  2015  \n",
       "9742     Actress in a Leading Role  2017  \n",
       "9864     Actress in a Leading Role  2018  "
      ]
     },
     "execution_count": 273,
     "metadata": {},
     "output_type": "execute_result"
    }
   ],
   "source": [
    "# get the award information for top 1 actor/actress: Meryl Streep  \n",
    "df_award[df_award['info1'] == 'Meryl Streep']"
   ]
  },
  {
   "cell_type": "code",
   "execution_count": 308,
   "metadata": {
    "scrolled": true
   },
   "outputs": [
    {
     "data": {
      "text/html": [
       "<div>\n",
       "<style scoped>\n",
       "    .dataframe tbody tr th:only-of-type {\n",
       "        vertical-align: middle;\n",
       "    }\n",
       "\n",
       "    .dataframe tbody tr th {\n",
       "        vertical-align: top;\n",
       "    }\n",
       "\n",
       "    .dataframe thead th {\n",
       "        text-align: right;\n",
       "    }\n",
       "</style>\n",
       "<table border=\"1\" class=\"dataframe\">\n",
       "  <thead>\n",
       "    <tr style=\"text-align: right;\">\n",
       "      <th></th>\n",
       "      <th>info1</th>\n",
       "      <th>info2</th>\n",
       "      <th>status</th>\n",
       "      <th>award</th>\n",
       "      <th>year</th>\n",
       "    </tr>\n",
       "  </thead>\n",
       "  <tbody>\n",
       "    <tr>\n",
       "      <th>2727</th>\n",
       "      <td>Titanic</td>\n",
       "      <td>Art Direction: Lyle Wheeler, Maurice Ransford;...</td>\n",
       "      <td>nominee</td>\n",
       "      <td>Art Direction (Black-and-White)</td>\n",
       "      <td>1954</td>\n",
       "    </tr>\n",
       "    <tr>\n",
       "      <th>2821</th>\n",
       "      <td>Titanic</td>\n",
       "      <td>Charles Brackett, Walter Reisch, Richard Breen</td>\n",
       "      <td>winner</td>\n",
       "      <td>Writing (Story and Screenplay)</td>\n",
       "      <td>1954</td>\n",
       "    </tr>\n",
       "    <tr>\n",
       "      <th>7564</th>\n",
       "      <td>Titanic</td>\n",
       "      <td>Art Direction: Peter Lamont; Set Decoration: M...</td>\n",
       "      <td>winner</td>\n",
       "      <td>Art Direction</td>\n",
       "      <td>1998</td>\n",
       "    </tr>\n",
       "    <tr>\n",
       "      <th>7569</th>\n",
       "      <td>Titanic</td>\n",
       "      <td>Russell Carpenter</td>\n",
       "      <td>winner</td>\n",
       "      <td>Cinematography</td>\n",
       "      <td>1998</td>\n",
       "    </tr>\n",
       "    <tr>\n",
       "      <th>7574</th>\n",
       "      <td>Titanic</td>\n",
       "      <td>Deborah L. Scott</td>\n",
       "      <td>winner</td>\n",
       "      <td>Costume Design</td>\n",
       "      <td>1998</td>\n",
       "    </tr>\n",
       "    <tr>\n",
       "      <th>7579</th>\n",
       "      <td>Titanic</td>\n",
       "      <td>James Cameron</td>\n",
       "      <td>winner</td>\n",
       "      <td>Directing</td>\n",
       "      <td>1998</td>\n",
       "    </tr>\n",
       "    <tr>\n",
       "      <th>7594</th>\n",
       "      <td>Titanic</td>\n",
       "      <td>Conrad Buff, James Cameron, Richard A. Harris</td>\n",
       "      <td>winner</td>\n",
       "      <td>Film Editing</td>\n",
       "      <td>1998</td>\n",
       "    </tr>\n",
       "    <tr>\n",
       "      <th>7606</th>\n",
       "      <td>Titanic</td>\n",
       "      <td>Tina Earnshaw, Greg Cannom, Simon Thompson</td>\n",
       "      <td>nominee</td>\n",
       "      <td>Makeup</td>\n",
       "      <td>1998</td>\n",
       "    </tr>\n",
       "    <tr>\n",
       "      <th>7607</th>\n",
       "      <td>Titanic</td>\n",
       "      <td>James Horner</td>\n",
       "      <td>winner</td>\n",
       "      <td>Music (Original Dramatic Score)</td>\n",
       "      <td>1998</td>\n",
       "    </tr>\n",
       "    <tr>\n",
       "      <th>7617</th>\n",
       "      <td>Titanic</td>\n",
       "      <td>My Heart Will Go On in \"Titanic\" Music by Jame...</td>\n",
       "      <td>winner</td>\n",
       "      <td>Music (Original Song)</td>\n",
       "      <td>1998</td>\n",
       "    </tr>\n",
       "    <tr>\n",
       "      <th>7622</th>\n",
       "      <td>Titanic</td>\n",
       "      <td>James Cameron and Jon Landau, Producers</td>\n",
       "      <td>winner</td>\n",
       "      <td>Best Picture</td>\n",
       "      <td>1998</td>\n",
       "    </tr>\n",
       "    <tr>\n",
       "      <th>7637</th>\n",
       "      <td>Titanic</td>\n",
       "      <td>Gary Rydstrom, Tom Johnson, Gary Summers, Mark...</td>\n",
       "      <td>winner</td>\n",
       "      <td>Sound</td>\n",
       "      <td>1998</td>\n",
       "    </tr>\n",
       "    <tr>\n",
       "      <th>7642</th>\n",
       "      <td>Titanic</td>\n",
       "      <td>Tom Bellfort, Christopher Boyes</td>\n",
       "      <td>winner</td>\n",
       "      <td>Sound Effects Editing</td>\n",
       "      <td>1998</td>\n",
       "    </tr>\n",
       "    <tr>\n",
       "      <th>7645</th>\n",
       "      <td>Titanic</td>\n",
       "      <td>Robert Legato, Mark Lasoff, Thomas L. Fisher, ...</td>\n",
       "      <td>winner</td>\n",
       "      <td>Visual Effects</td>\n",
       "      <td>1998</td>\n",
       "    </tr>\n",
       "  </tbody>\n",
       "</table>\n",
       "</div>"
      ],
      "text/plain": [
       "        info1                                              info2   status  \\\n",
       "2727  Titanic  Art Direction: Lyle Wheeler, Maurice Ransford;...  nominee   \n",
       "2821  Titanic     Charles Brackett, Walter Reisch, Richard Breen   winner   \n",
       "7564  Titanic  Art Direction: Peter Lamont; Set Decoration: M...   winner   \n",
       "7569  Titanic                                  Russell Carpenter   winner   \n",
       "7574  Titanic                                   Deborah L. Scott   winner   \n",
       "7579  Titanic                                      James Cameron   winner   \n",
       "7594  Titanic      Conrad Buff, James Cameron, Richard A. Harris   winner   \n",
       "7606  Titanic         Tina Earnshaw, Greg Cannom, Simon Thompson  nominee   \n",
       "7607  Titanic                                       James Horner   winner   \n",
       "7617  Titanic  My Heart Will Go On in \"Titanic\" Music by Jame...   winner   \n",
       "7622  Titanic            James Cameron and Jon Landau, Producers   winner   \n",
       "7637  Titanic  Gary Rydstrom, Tom Johnson, Gary Summers, Mark...   winner   \n",
       "7642  Titanic                    Tom Bellfort, Christopher Boyes   winner   \n",
       "7645  Titanic  Robert Legato, Mark Lasoff, Thomas L. Fisher, ...   winner   \n",
       "\n",
       "                                award  year  \n",
       "2727  Art Direction (Black-and-White)  1954  \n",
       "2821   Writing (Story and Screenplay)  1954  \n",
       "7564                    Art Direction  1998  \n",
       "7569                   Cinematography  1998  \n",
       "7574                   Costume Design  1998  \n",
       "7579                        Directing  1998  \n",
       "7594                     Film Editing  1998  \n",
       "7606                           Makeup  1998  \n",
       "7607  Music (Original Dramatic Score)  1998  \n",
       "7617            Music (Original Song)  1998  \n",
       "7622                     Best Picture  1998  \n",
       "7637                            Sound  1998  \n",
       "7642            Sound Effects Editing  1998  \n",
       "7645                   Visual Effects  1998  "
      ]
     },
     "execution_count": 308,
     "metadata": {},
     "output_type": "execute_result"
    }
   ],
   "source": [
    "# get the award information for top 1 film winner : Titanic  \n",
    "df_award[df_award['info1'] == 'Titanic']"
   ]
  },
  {
   "cell_type": "code",
   "execution_count": 340,
   "metadata": {},
   "outputs": [
    {
     "data": {
      "text/html": [
       "<div>\n",
       "<style scoped>\n",
       "    .dataframe tbody tr th:only-of-type {\n",
       "        vertical-align: middle;\n",
       "    }\n",
       "\n",
       "    .dataframe tbody tr th {\n",
       "        vertical-align: top;\n",
       "    }\n",
       "\n",
       "    .dataframe thead th {\n",
       "        text-align: right;\n",
       "    }\n",
       "</style>\n",
       "<table border=\"1\" class=\"dataframe\">\n",
       "  <thead>\n",
       "    <tr style=\"text-align: right;\">\n",
       "      <th></th>\n",
       "      <th>info1</th>\n",
       "      <th>info2</th>\n",
       "      <th>status</th>\n",
       "      <th>award</th>\n",
       "      <th>year</th>\n",
       "    </tr>\n",
       "  </thead>\n",
       "  <tbody>\n",
       "    <tr>\n",
       "      <th>8232</th>\n",
       "      <td>The Lord of the Rings: The Return of the King</td>\n",
       "      <td>Art Direction: Grant Major; Set Decoration: Da...</td>\n",
       "      <td>winner</td>\n",
       "      <td>Art Direction</td>\n",
       "      <td>2004</td>\n",
       "    </tr>\n",
       "    <tr>\n",
       "      <th>8242</th>\n",
       "      <td>The Lord of the Rings: The Return of the King</td>\n",
       "      <td>Ngila Dickson and Richard Taylor</td>\n",
       "      <td>winner</td>\n",
       "      <td>Costume Design</td>\n",
       "      <td>2004</td>\n",
       "    </tr>\n",
       "    <tr>\n",
       "      <th>8247</th>\n",
       "      <td>The Lord of the Rings: The Return of the King</td>\n",
       "      <td>Peter Jackson</td>\n",
       "      <td>winner</td>\n",
       "      <td>Directing</td>\n",
       "      <td>2004</td>\n",
       "    </tr>\n",
       "    <tr>\n",
       "      <th>8260</th>\n",
       "      <td>The Lord of the Rings: The Return of the King</td>\n",
       "      <td>Jamie Selkirk</td>\n",
       "      <td>winner</td>\n",
       "      <td>Film Editing</td>\n",
       "      <td>2004</td>\n",
       "    </tr>\n",
       "    <tr>\n",
       "      <th>8270</th>\n",
       "      <td>The Lord of the Rings: The Return of the King</td>\n",
       "      <td>Richard Taylor and Peter King</td>\n",
       "      <td>winner</td>\n",
       "      <td>Makeup</td>\n",
       "      <td>2004</td>\n",
       "    </tr>\n",
       "    <tr>\n",
       "      <th>8273</th>\n",
       "      <td>The Lord of the Rings: The Return of the King</td>\n",
       "      <td>Howard Shore</td>\n",
       "      <td>winner</td>\n",
       "      <td>Music (Original Score)</td>\n",
       "      <td>2004</td>\n",
       "    </tr>\n",
       "    <tr>\n",
       "      <th>8278</th>\n",
       "      <td>The Lord of the Rings: The Return of the King</td>\n",
       "      <td>Into The West in \"The Lord of the Rings: The R...</td>\n",
       "      <td>winner</td>\n",
       "      <td>Music (Original Song)</td>\n",
       "      <td>2004</td>\n",
       "    </tr>\n",
       "    <tr>\n",
       "      <th>8283</th>\n",
       "      <td>The Lord of the Rings: The Return of the King</td>\n",
       "      <td>Barrie M. Osborne, Peter Jackson and Fran Wals...</td>\n",
       "      <td>winner</td>\n",
       "      <td>Best Picture</td>\n",
       "      <td>2004</td>\n",
       "    </tr>\n",
       "    <tr>\n",
       "      <th>8301</th>\n",
       "      <td>The Lord of the Rings: The Return of the King</td>\n",
       "      <td>Christopher Boyes, Michael Semanick, Michael H...</td>\n",
       "      <td>winner</td>\n",
       "      <td>Sound Mixing</td>\n",
       "      <td>2004</td>\n",
       "    </tr>\n",
       "    <tr>\n",
       "      <th>8306</th>\n",
       "      <td>The Lord of the Rings: The Return of the King</td>\n",
       "      <td>Jim Rygiel, Joe Letteri, Randall William Cook ...</td>\n",
       "      <td>winner</td>\n",
       "      <td>Visual Effects</td>\n",
       "      <td>2004</td>\n",
       "    </tr>\n",
       "    <tr>\n",
       "      <th>8309</th>\n",
       "      <td>The Lord of the Rings: The Return of the King</td>\n",
       "      <td>Screenplay by Fran Walsh, Philippa Boyens, &amp; P...</td>\n",
       "      <td>winner</td>\n",
       "      <td>Writing (Adapted Screenplay)</td>\n",
       "      <td>2004</td>\n",
       "    </tr>\n",
       "  </tbody>\n",
       "</table>\n",
       "</div>"
      ],
      "text/plain": [
       "                                              info1  \\\n",
       "8232  The Lord of the Rings: The Return of the King   \n",
       "8242  The Lord of the Rings: The Return of the King   \n",
       "8247  The Lord of the Rings: The Return of the King   \n",
       "8260  The Lord of the Rings: The Return of the King   \n",
       "8270  The Lord of the Rings: The Return of the King   \n",
       "8273  The Lord of the Rings: The Return of the King   \n",
       "8278  The Lord of the Rings: The Return of the King   \n",
       "8283  The Lord of the Rings: The Return of the King   \n",
       "8301  The Lord of the Rings: The Return of the King   \n",
       "8306  The Lord of the Rings: The Return of the King   \n",
       "8309  The Lord of the Rings: The Return of the King   \n",
       "\n",
       "                                                  info2  status  \\\n",
       "8232  Art Direction: Grant Major; Set Decoration: Da...  winner   \n",
       "8242                   Ngila Dickson and Richard Taylor  winner   \n",
       "8247                                      Peter Jackson  winner   \n",
       "8260                                      Jamie Selkirk  winner   \n",
       "8270                      Richard Taylor and Peter King  winner   \n",
       "8273                                       Howard Shore  winner   \n",
       "8278  Into The West in \"The Lord of the Rings: The R...  winner   \n",
       "8283  Barrie M. Osborne, Peter Jackson and Fran Wals...  winner   \n",
       "8301  Christopher Boyes, Michael Semanick, Michael H...  winner   \n",
       "8306  Jim Rygiel, Joe Letteri, Randall William Cook ...  winner   \n",
       "8309  Screenplay by Fran Walsh, Philippa Boyens, & P...  winner   \n",
       "\n",
       "                             award  year  \n",
       "8232                 Art Direction  2004  \n",
       "8242                Costume Design  2004  \n",
       "8247                     Directing  2004  \n",
       "8260                  Film Editing  2004  \n",
       "8270                        Makeup  2004  \n",
       "8273        Music (Original Score)  2004  \n",
       "8278         Music (Original Song)  2004  \n",
       "8283                  Best Picture  2004  \n",
       "8301                  Sound Mixing  2004  \n",
       "8306                Visual Effects  2004  \n",
       "8309  Writing (Adapted Screenplay)  2004  "
      ]
     },
     "execution_count": 340,
     "metadata": {},
     "output_type": "execute_result"
    }
   ],
   "source": [
    "df_award[df_award['info1'] == 'The Lord of the Rings: The Return of the King']"
   ]
  },
  {
   "cell_type": "code",
   "execution_count": 341,
   "metadata": {},
   "outputs": [
    {
     "data": {
      "text/html": [
       "<div>\n",
       "<style scoped>\n",
       "    .dataframe tbody tr th:only-of-type {\n",
       "        vertical-align: middle;\n",
       "    }\n",
       "\n",
       "    .dataframe tbody tr th {\n",
       "        vertical-align: top;\n",
       "    }\n",
       "\n",
       "    .dataframe thead th {\n",
       "        text-align: right;\n",
       "    }\n",
       "</style>\n",
       "<table border=\"1\" class=\"dataframe\">\n",
       "  <thead>\n",
       "    <tr style=\"text-align: right;\">\n",
       "      <th></th>\n",
       "      <th>info1</th>\n",
       "      <th>info2</th>\n",
       "      <th>status</th>\n",
       "      <th>award</th>\n",
       "      <th>year</th>\n",
       "    </tr>\n",
       "  </thead>\n",
       "  <tbody>\n",
       "    <tr>\n",
       "      <th>6485</th>\n",
       "      <td>The Last Emperor</td>\n",
       "      <td>Art Direction: Ferdinando Scarfiotti; Set Deco...</td>\n",
       "      <td>winner</td>\n",
       "      <td>Art Direction</td>\n",
       "      <td>1988</td>\n",
       "    </tr>\n",
       "    <tr>\n",
       "      <th>6490</th>\n",
       "      <td>The Last Emperor</td>\n",
       "      <td>Vittorio Storaro</td>\n",
       "      <td>winner</td>\n",
       "      <td>Cinematography</td>\n",
       "      <td>1988</td>\n",
       "    </tr>\n",
       "    <tr>\n",
       "      <th>6495</th>\n",
       "      <td>The Last Emperor</td>\n",
       "      <td>James Acheson</td>\n",
       "      <td>winner</td>\n",
       "      <td>Costume Design</td>\n",
       "      <td>1988</td>\n",
       "    </tr>\n",
       "    <tr>\n",
       "      <th>6500</th>\n",
       "      <td>The Last Emperor</td>\n",
       "      <td>Bernardo Bertolucci</td>\n",
       "      <td>winner</td>\n",
       "      <td>Directing</td>\n",
       "      <td>1988</td>\n",
       "    </tr>\n",
       "    <tr>\n",
       "      <th>6515</th>\n",
       "      <td>The Last Emperor</td>\n",
       "      <td>Gabriella Cristiani</td>\n",
       "      <td>winner</td>\n",
       "      <td>Film Editing</td>\n",
       "      <td>1988</td>\n",
       "    </tr>\n",
       "    <tr>\n",
       "      <th>6528</th>\n",
       "      <td>The Last Emperor</td>\n",
       "      <td>Ryuichi Sakamoto, David Byrne, Cong Su</td>\n",
       "      <td>winner</td>\n",
       "      <td>Music (Original Score)</td>\n",
       "      <td>1988</td>\n",
       "    </tr>\n",
       "    <tr>\n",
       "      <th>6538</th>\n",
       "      <td>The Last Emperor</td>\n",
       "      <td>Jeremy Thomas, Producer</td>\n",
       "      <td>winner</td>\n",
       "      <td>Best Picture</td>\n",
       "      <td>1988</td>\n",
       "    </tr>\n",
       "    <tr>\n",
       "      <th>6549</th>\n",
       "      <td>The Last Emperor</td>\n",
       "      <td>Bill Rowe, Ivan Sharrock</td>\n",
       "      <td>winner</td>\n",
       "      <td>Sound</td>\n",
       "      <td>1988</td>\n",
       "    </tr>\n",
       "    <tr>\n",
       "      <th>6557</th>\n",
       "      <td>The Last Emperor</td>\n",
       "      <td>Mark Peploe, Bernardo Bertolucci</td>\n",
       "      <td>winner</td>\n",
       "      <td>Writing (Screenplay Based on Material from Ano...</td>\n",
       "      <td>1988</td>\n",
       "    </tr>\n",
       "  </tbody>\n",
       "</table>\n",
       "</div>"
      ],
      "text/plain": [
       "                 info1                                              info2  \\\n",
       "6485  The Last Emperor  Art Direction: Ferdinando Scarfiotti; Set Deco...   \n",
       "6490  The Last Emperor                                   Vittorio Storaro   \n",
       "6495  The Last Emperor                                      James Acheson   \n",
       "6500  The Last Emperor                                Bernardo Bertolucci   \n",
       "6515  The Last Emperor                                Gabriella Cristiani   \n",
       "6528  The Last Emperor             Ryuichi Sakamoto, David Byrne, Cong Su   \n",
       "6538  The Last Emperor                            Jeremy Thomas, Producer   \n",
       "6549  The Last Emperor                           Bill Rowe, Ivan Sharrock   \n",
       "6557  The Last Emperor                   Mark Peploe, Bernardo Bertolucci   \n",
       "\n",
       "      status                                              award  year  \n",
       "6485  winner                                      Art Direction  1988  \n",
       "6490  winner                                     Cinematography  1988  \n",
       "6495  winner                                     Costume Design  1988  \n",
       "6500  winner                                          Directing  1988  \n",
       "6515  winner                                       Film Editing  1988  \n",
       "6528  winner                             Music (Original Score)  1988  \n",
       "6538  winner                                       Best Picture  1988  \n",
       "6549  winner                                              Sound  1988  \n",
       "6557  winner  Writing (Screenplay Based on Material from Ano...  1988  "
      ]
     },
     "execution_count": 341,
     "metadata": {},
     "output_type": "execute_result"
    }
   ],
   "source": [
    "df_award[df_award['info1'] == 'The Last Emperor']"
   ]
  },
  {
   "cell_type": "markdown",
   "metadata": {},
   "source": [
    "### Ceremony"
   ]
  },
  {
   "cell_type": "code",
   "execution_count": 324,
   "metadata": {},
   "outputs": [
    {
     "data": {
      "text/html": [
       "<div>\n",
       "<style scoped>\n",
       "    .dataframe tbody tr th:only-of-type {\n",
       "        vertical-align: middle;\n",
       "    }\n",
       "\n",
       "    .dataframe tbody tr th {\n",
       "        vertical-align: top;\n",
       "    }\n",
       "\n",
       "    .dataframe thead th {\n",
       "        text-align: right;\n",
       "    }\n",
       "</style>\n",
       "<table border=\"1\" class=\"dataframe\">\n",
       "  <thead>\n",
       "    <tr style=\"text-align: right;\">\n",
       "      <th></th>\n",
       "      <th>Ordinal</th>\n",
       "      <th>Year</th>\n",
       "      <th>Location</th>\n",
       "      <th>Date</th>\n",
       "      <th>Release</th>\n",
       "    </tr>\n",
       "  </thead>\n",
       "  <tbody>\n",
       "    <tr>\n",
       "      <th>0</th>\n",
       "      <td>1st</td>\n",
       "      <td>1929</td>\n",
       "      <td>Blossom Room of the Hollywood Roosevelt Hotel</td>\n",
       "      <td>Thursday, May 16, 1929</td>\n",
       "      <td>Honoring movies released from August 1, 1927 ...</td>\n",
       "    </tr>\n",
       "    <tr>\n",
       "      <th>1</th>\n",
       "      <td>2nd</td>\n",
       "      <td>1930</td>\n",
       "      <td>Cocoanut Grove of the Ambassador Hotel</td>\n",
       "      <td>Thursday, April 3, 1930</td>\n",
       "      <td>Honoring movies released from August 1, 1928 ...</td>\n",
       "    </tr>\n",
       "    <tr>\n",
       "      <th>2</th>\n",
       "      <td>3rd</td>\n",
       "      <td>1931</td>\n",
       "      <td>Fiesta Room of the Ambassador Hotel</td>\n",
       "      <td>Wednesday, November 5, 1930</td>\n",
       "      <td>honoring movies released from August 1, 1929 ...</td>\n",
       "    </tr>\n",
       "    <tr>\n",
       "      <th>3</th>\n",
       "      <td>4th</td>\n",
       "      <td>1932</td>\n",
       "      <td>Sala D'Oro in the Biltmore Hotel</td>\n",
       "      <td>Tuesday, November 10, 1931</td>\n",
       "      <td>Honoring movies released from August 1, 1930 ...</td>\n",
       "    </tr>\n",
       "    <tr>\n",
       "      <th>4</th>\n",
       "      <td>5th</td>\n",
       "      <td>1933</td>\n",
       "      <td>Fiesta Room of the Ambassador Hotel</td>\n",
       "      <td>Friday, November 18, 1932</td>\n",
       "      <td>Honoring movies released from August 1, 1931 ...</td>\n",
       "    </tr>\n",
       "    <tr>\n",
       "      <th>...</th>\n",
       "      <td>...</td>\n",
       "      <td>...</td>\n",
       "      <td>...</td>\n",
       "      <td>...</td>\n",
       "      <td>...</td>\n",
       "    </tr>\n",
       "    <tr>\n",
       "      <th>89</th>\n",
       "      <td>90th</td>\n",
       "      <td>2018</td>\n",
       "      <td>Dolby Theatre at the Hollywood &amp; Highland Center</td>\n",
       "      <td>Sunday, March 4, 2018</td>\n",
       "      <td>Honoring movies released in 2017</td>\n",
       "    </tr>\n",
       "    <tr>\n",
       "      <th>90</th>\n",
       "      <td>91st</td>\n",
       "      <td>2019</td>\n",
       "      <td>Dolby Theatre at the Hollywood &amp; Highland Center</td>\n",
       "      <td>Sunday, February 24, 2019</td>\n",
       "      <td>Honoring movies released in 2018</td>\n",
       "    </tr>\n",
       "    <tr>\n",
       "      <th>91</th>\n",
       "      <td>92nd</td>\n",
       "      <td>2020</td>\n",
       "      <td>Dolby Theatre at the Hollywood &amp; Highland Center</td>\n",
       "      <td>Sunday, February 9, 2020</td>\n",
       "      <td>Honoring movies released in 2019</td>\n",
       "    </tr>\n",
       "    <tr>\n",
       "      <th>92</th>\n",
       "      <td>93rd</td>\n",
       "      <td>2021</td>\n",
       "      <td>Union Station Los Angeles and the Dolby Theatr...</td>\n",
       "      <td>Sunday, April 25, 2021</td>\n",
       "      <td>Honoring movies released in 2020</td>\n",
       "    </tr>\n",
       "    <tr>\n",
       "      <th>93</th>\n",
       "      <td>94th</td>\n",
       "      <td>2022</td>\n",
       "      <td>Dolby Theatre at Ovation Hollywood</td>\n",
       "      <td>Sunday, March 27, 2022</td>\n",
       "      <td>Honoring movies released in 2021</td>\n",
       "    </tr>\n",
       "  </tbody>\n",
       "</table>\n",
       "<p>94 rows × 5 columns</p>\n",
       "</div>"
      ],
      "text/plain": [
       "   Ordinal  Year                                           Location  \\\n",
       "0      1st  1929      Blossom Room of the Hollywood Roosevelt Hotel   \n",
       "1      2nd  1930             Cocoanut Grove of the Ambassador Hotel   \n",
       "2      3rd  1931                Fiesta Room of the Ambassador Hotel   \n",
       "3      4th  1932                   Sala D'Oro in the Biltmore Hotel   \n",
       "4      5th  1933                Fiesta Room of the Ambassador Hotel   \n",
       "..     ...   ...                                                ...   \n",
       "89    90th  2018   Dolby Theatre at the Hollywood & Highland Center   \n",
       "90    91st  2019   Dolby Theatre at the Hollywood & Highland Center   \n",
       "91    92nd  2020   Dolby Theatre at the Hollywood & Highland Center   \n",
       "92    93rd  2021  Union Station Los Angeles and the Dolby Theatr...   \n",
       "93    94th  2022                 Dolby Theatre at Ovation Hollywood   \n",
       "\n",
       "                           Date  \\\n",
       "0        Thursday, May 16, 1929   \n",
       "1       Thursday, April 3, 1930   \n",
       "2   Wednesday, November 5, 1930   \n",
       "3    Tuesday, November 10, 1931   \n",
       "4     Friday, November 18, 1932   \n",
       "..                          ...   \n",
       "89        Sunday, March 4, 2018   \n",
       "90    Sunday, February 24, 2019   \n",
       "91     Sunday, February 9, 2020   \n",
       "92       Sunday, April 25, 2021   \n",
       "93       Sunday, March 27, 2022   \n",
       "\n",
       "                                              Release  \n",
       "0    Honoring movies released from August 1, 1927 ...  \n",
       "1    Honoring movies released from August 1, 1928 ...  \n",
       "2    honoring movies released from August 1, 1929 ...  \n",
       "3    Honoring movies released from August 1, 1930 ...  \n",
       "4    Honoring movies released from August 1, 1931 ...  \n",
       "..                                                ...  \n",
       "89                  Honoring movies released in 2017   \n",
       "90                  Honoring movies released in 2018   \n",
       "91                  Honoring movies released in 2019   \n",
       "92                  Honoring movies released in 2020   \n",
       "93                  Honoring movies released in 2021   \n",
       "\n",
       "[94 rows x 5 columns]"
      ]
     },
     "execution_count": 324,
     "metadata": {},
     "output_type": "execute_result"
    }
   ],
   "source": [
    "df_ceremony = pd.read_csv('ceromony_information.csv')\n",
    "df_ceremony.at[54,'Location']='Dorothy Chandler Pavilion'\n",
    "df_ceremony.at[55,'Location']='Dorothy Chandler Pavilion'\n",
    "df_ceremony"
   ]
  },
  {
   "cell_type": "code",
   "execution_count": 329,
   "metadata": {},
   "outputs": [
    {
     "data": {
      "text/plain": [
       "Dorothy Chandler Pavilion                                                             25\n",
       "RKO Pantages Theatre                                                                  11\n",
       "Kodak Theatre at Hollywood & Highland Center                                          10\n",
       "Dolby Theatre at the Hollywood & Highland Center                                       8\n",
       "Santa Monica Civic Auditorium                                                          8\n",
       "Biltmore Bowl of the Biltmore Hotel                                                    7\n",
       "Shrine Civic Auditorium                                                                5\n",
       "Shrine Auditorium & Expo Center                                                        5\n",
       "Fiesta Room of the Ambassador Hotel                                                    3\n",
       "Grauman's Chinese Theatre                                                              3\n",
       "Cocoanut Grove of the Ambassador Hotel                                                 2\n",
       "Union Station Los Angeles and the Dolby Theatre at the Hollywood & Highland Center     1\n",
       "Hollywood & Highland Center                                                            1\n",
       "Blossom Room of the Hollywood Roosevelt Hotel                                          1\n",
       "Academy Award Theater                                                                  1\n",
       "Coconut Grove of the Ambassador Hotel                                                  1\n",
       "Sala D'Oro in the Biltmore Hotel                                                       1\n",
       "Dolby Theatre at Ovation Hollywood                                                     1\n",
       "Name: Location, dtype: int64"
      ]
     },
     "execution_count": 329,
     "metadata": {},
     "output_type": "execute_result"
    }
   ],
   "source": [
    "df_ceremony['Location'].value_counts()"
   ]
  },
  {
   "cell_type": "code",
   "execution_count": 331,
   "metadata": {},
   "outputs": [
    {
     "data": {
      "text/html": [
       "<div>\n",
       "<style scoped>\n",
       "    .dataframe tbody tr th:only-of-type {\n",
       "        vertical-align: middle;\n",
       "    }\n",
       "\n",
       "    .dataframe tbody tr th {\n",
       "        vertical-align: top;\n",
       "    }\n",
       "\n",
       "    .dataframe thead th {\n",
       "        text-align: right;\n",
       "    }\n",
       "</style>\n",
       "<table border=\"1\" class=\"dataframe\">\n",
       "  <thead>\n",
       "    <tr style=\"text-align: right;\">\n",
       "      <th></th>\n",
       "      <th>Ordinal</th>\n",
       "      <th>Year</th>\n",
       "      <th>Location</th>\n",
       "      <th>Date</th>\n",
       "      <th>Release</th>\n",
       "    </tr>\n",
       "  </thead>\n",
       "  <tbody>\n",
       "    <tr>\n",
       "      <th>40</th>\n",
       "      <td>41st</td>\n",
       "      <td>1969</td>\n",
       "      <td>Dorothy Chandler Pavilion</td>\n",
       "      <td>Monday, April 14, 1969</td>\n",
       "      <td>Honoring movies released in 1968</td>\n",
       "    </tr>\n",
       "    <tr>\n",
       "      <th>41</th>\n",
       "      <td>42nd</td>\n",
       "      <td>1970</td>\n",
       "      <td>Dorothy Chandler Pavilion</td>\n",
       "      <td>Tuesday, April 7, 1970</td>\n",
       "      <td>Honoring movies released in 1969</td>\n",
       "    </tr>\n",
       "    <tr>\n",
       "      <th>42</th>\n",
       "      <td>43rd</td>\n",
       "      <td>1971</td>\n",
       "      <td>Dorothy Chandler Pavilion</td>\n",
       "      <td>Thursday, April 15, 1971</td>\n",
       "      <td>Honoring movies released in 1970</td>\n",
       "    </tr>\n",
       "    <tr>\n",
       "      <th>43</th>\n",
       "      <td>44th</td>\n",
       "      <td>1972</td>\n",
       "      <td>Dorothy Chandler Pavilion</td>\n",
       "      <td>Monday, April 10, 1972</td>\n",
       "      <td>Honoring movies released in 1971</td>\n",
       "    </tr>\n",
       "    <tr>\n",
       "      <th>44</th>\n",
       "      <td>45th</td>\n",
       "      <td>1973</td>\n",
       "      <td>Dorothy Chandler Pavilion</td>\n",
       "      <td>Tuesday, March 27, 1973</td>\n",
       "      <td>Honoring movies released in 1972</td>\n",
       "    </tr>\n",
       "    <tr>\n",
       "      <th>45</th>\n",
       "      <td>46th</td>\n",
       "      <td>1974</td>\n",
       "      <td>Dorothy Chandler Pavilion</td>\n",
       "      <td>Tuesday, April 2, 1974</td>\n",
       "      <td>Honoring movies released in 1973</td>\n",
       "    </tr>\n",
       "    <tr>\n",
       "      <th>46</th>\n",
       "      <td>47th</td>\n",
       "      <td>1975</td>\n",
       "      <td>Dorothy Chandler Pavilion</td>\n",
       "      <td>Tuesday, April 8, 1975</td>\n",
       "      <td>Honoring movies released in 1974</td>\n",
       "    </tr>\n",
       "    <tr>\n",
       "      <th>47</th>\n",
       "      <td>48th</td>\n",
       "      <td>1976</td>\n",
       "      <td>Dorothy Chandler Pavilion</td>\n",
       "      <td>Monday, March 29, 1976</td>\n",
       "      <td>Honoring movies released in 1975</td>\n",
       "    </tr>\n",
       "    <tr>\n",
       "      <th>48</th>\n",
       "      <td>49th</td>\n",
       "      <td>1977</td>\n",
       "      <td>Dorothy Chandler Pavilion</td>\n",
       "      <td>Monday, March 28, 1977</td>\n",
       "      <td>Honoring movies released in 1976</td>\n",
       "    </tr>\n",
       "    <tr>\n",
       "      <th>49</th>\n",
       "      <td>50th</td>\n",
       "      <td>1978</td>\n",
       "      <td>Dorothy Chandler Pavilion</td>\n",
       "      <td>Monday, April 3, 1978</td>\n",
       "      <td>Honoring movies released in 1977</td>\n",
       "    </tr>\n",
       "    <tr>\n",
       "      <th>50</th>\n",
       "      <td>51st</td>\n",
       "      <td>1979</td>\n",
       "      <td>Dorothy Chandler Pavilion</td>\n",
       "      <td>Monday, April 9, 1979</td>\n",
       "      <td>Honoring movies released in 1978</td>\n",
       "    </tr>\n",
       "    <tr>\n",
       "      <th>51</th>\n",
       "      <td>52nd</td>\n",
       "      <td>1980</td>\n",
       "      <td>Dorothy Chandler Pavilion</td>\n",
       "      <td>Monday, April 14, 1980</td>\n",
       "      <td>Honoring movies released in 1979</td>\n",
       "    </tr>\n",
       "    <tr>\n",
       "      <th>52</th>\n",
       "      <td>53rd</td>\n",
       "      <td>1981</td>\n",
       "      <td>Dorothy Chandler Pavilion</td>\n",
       "      <td>Tuesday, March 31, 1981</td>\n",
       "      <td>Honoring movies released in 1980</td>\n",
       "    </tr>\n",
       "    <tr>\n",
       "      <th>53</th>\n",
       "      <td>54th</td>\n",
       "      <td>1982</td>\n",
       "      <td>Dorothy Chandler Pavilion</td>\n",
       "      <td>Monday, March 29, 1982</td>\n",
       "      <td>Honoring movies released in 1981</td>\n",
       "    </tr>\n",
       "    <tr>\n",
       "      <th>54</th>\n",
       "      <td>55th</td>\n",
       "      <td>1983</td>\n",
       "      <td>Dorothy Chandler Pavilion</td>\n",
       "      <td>Monday, April 11, 1983</td>\n",
       "      <td>Honoring movies released in 1982</td>\n",
       "    </tr>\n",
       "    <tr>\n",
       "      <th>55</th>\n",
       "      <td>56th</td>\n",
       "      <td>1984</td>\n",
       "      <td>Dorothy Chandler Pavilion</td>\n",
       "      <td>Monday, April 9, 1984</td>\n",
       "      <td>Honoring movies released in 1983</td>\n",
       "    </tr>\n",
       "    <tr>\n",
       "      <th>56</th>\n",
       "      <td>57th</td>\n",
       "      <td>1985</td>\n",
       "      <td>Dorothy Chandler Pavilion</td>\n",
       "      <td>Monday, March 25, 1985</td>\n",
       "      <td>Honoring movies released in 1984</td>\n",
       "    </tr>\n",
       "    <tr>\n",
       "      <th>57</th>\n",
       "      <td>58th</td>\n",
       "      <td>1986</td>\n",
       "      <td>Dorothy Chandler Pavilion</td>\n",
       "      <td>Monday, March 24, 1986</td>\n",
       "      <td>Honoring movies released in 1985</td>\n",
       "    </tr>\n",
       "    <tr>\n",
       "      <th>58</th>\n",
       "      <td>59th</td>\n",
       "      <td>1987</td>\n",
       "      <td>Dorothy Chandler Pavilion</td>\n",
       "      <td>Monday, March 30, 1987</td>\n",
       "      <td>Honoring movies released in 1986</td>\n",
       "    </tr>\n",
       "    <tr>\n",
       "      <th>61</th>\n",
       "      <td>62nd</td>\n",
       "      <td>1990</td>\n",
       "      <td>Dorothy Chandler Pavilion</td>\n",
       "      <td>Monday, March 26, 1990</td>\n",
       "      <td>Honoring movies released in 1989</td>\n",
       "    </tr>\n",
       "    <tr>\n",
       "      <th>63</th>\n",
       "      <td>64th</td>\n",
       "      <td>1992</td>\n",
       "      <td>Dorothy Chandler Pavilion</td>\n",
       "      <td>Monday, March 30, 1992</td>\n",
       "      <td>Honoring movies released in 1991</td>\n",
       "    </tr>\n",
       "    <tr>\n",
       "      <th>64</th>\n",
       "      <td>65th</td>\n",
       "      <td>1993</td>\n",
       "      <td>Dorothy Chandler Pavilion</td>\n",
       "      <td>Monday, March 29, 1993</td>\n",
       "      <td>Honoring movies released in 1992</td>\n",
       "    </tr>\n",
       "    <tr>\n",
       "      <th>65</th>\n",
       "      <td>66th</td>\n",
       "      <td>1994</td>\n",
       "      <td>Dorothy Chandler Pavilion</td>\n",
       "      <td>Monday, March 21, 1994</td>\n",
       "      <td>Honoring movies released in 1993</td>\n",
       "    </tr>\n",
       "    <tr>\n",
       "      <th>67</th>\n",
       "      <td>68th</td>\n",
       "      <td>1996</td>\n",
       "      <td>Dorothy Chandler Pavilion</td>\n",
       "      <td>Monday, March 25, 1996</td>\n",
       "      <td>Honoring movies released in 1995</td>\n",
       "    </tr>\n",
       "    <tr>\n",
       "      <th>70</th>\n",
       "      <td>71st</td>\n",
       "      <td>1999</td>\n",
       "      <td>Dorothy Chandler Pavilion</td>\n",
       "      <td>Sunday, March 21, 1999</td>\n",
       "      <td>Honoring movies released in 1998</td>\n",
       "    </tr>\n",
       "  </tbody>\n",
       "</table>\n",
       "</div>"
      ],
      "text/plain": [
       "   Ordinal  Year                   Location                      Date  \\\n",
       "40    41st  1969  Dorothy Chandler Pavilion    Monday, April 14, 1969   \n",
       "41    42nd  1970  Dorothy Chandler Pavilion    Tuesday, April 7, 1970   \n",
       "42    43rd  1971  Dorothy Chandler Pavilion  Thursday, April 15, 1971   \n",
       "43    44th  1972  Dorothy Chandler Pavilion    Monday, April 10, 1972   \n",
       "44    45th  1973  Dorothy Chandler Pavilion   Tuesday, March 27, 1973   \n",
       "45    46th  1974  Dorothy Chandler Pavilion    Tuesday, April 2, 1974   \n",
       "46    47th  1975  Dorothy Chandler Pavilion    Tuesday, April 8, 1975   \n",
       "47    48th  1976  Dorothy Chandler Pavilion    Monday, March 29, 1976   \n",
       "48    49th  1977  Dorothy Chandler Pavilion    Monday, March 28, 1977   \n",
       "49    50th  1978  Dorothy Chandler Pavilion     Monday, April 3, 1978   \n",
       "50    51st  1979  Dorothy Chandler Pavilion     Monday, April 9, 1979   \n",
       "51    52nd  1980  Dorothy Chandler Pavilion    Monday, April 14, 1980   \n",
       "52    53rd  1981  Dorothy Chandler Pavilion   Tuesday, March 31, 1981   \n",
       "53    54th  1982  Dorothy Chandler Pavilion    Monday, March 29, 1982   \n",
       "54    55th  1983  Dorothy Chandler Pavilion    Monday, April 11, 1983   \n",
       "55    56th  1984  Dorothy Chandler Pavilion     Monday, April 9, 1984   \n",
       "56    57th  1985  Dorothy Chandler Pavilion    Monday, March 25, 1985   \n",
       "57    58th  1986  Dorothy Chandler Pavilion    Monday, March 24, 1986   \n",
       "58    59th  1987  Dorothy Chandler Pavilion    Monday, March 30, 1987   \n",
       "61    62nd  1990  Dorothy Chandler Pavilion    Monday, March 26, 1990   \n",
       "63    64th  1992  Dorothy Chandler Pavilion    Monday, March 30, 1992   \n",
       "64    65th  1993  Dorothy Chandler Pavilion    Monday, March 29, 1993   \n",
       "65    66th  1994  Dorothy Chandler Pavilion    Monday, March 21, 1994   \n",
       "67    68th  1996  Dorothy Chandler Pavilion    Monday, March 25, 1996   \n",
       "70    71st  1999  Dorothy Chandler Pavilion    Sunday, March 21, 1999   \n",
       "\n",
       "                               Release  \n",
       "40   Honoring movies released in 1968   \n",
       "41   Honoring movies released in 1969   \n",
       "42   Honoring movies released in 1970   \n",
       "43   Honoring movies released in 1971   \n",
       "44   Honoring movies released in 1972   \n",
       "45   Honoring movies released in 1973   \n",
       "46   Honoring movies released in 1974   \n",
       "47   Honoring movies released in 1975   \n",
       "48   Honoring movies released in 1976   \n",
       "49   Honoring movies released in 1977   \n",
       "50   Honoring movies released in 1978   \n",
       "51   Honoring movies released in 1979   \n",
       "52   Honoring movies released in 1980   \n",
       "53   Honoring movies released in 1981   \n",
       "54   Honoring movies released in 1982   \n",
       "55   Honoring movies released in 1983   \n",
       "56   Honoring movies released in 1984   \n",
       "57   Honoring movies released in 1985   \n",
       "58   Honoring movies released in 1986   \n",
       "61   Honoring movies released in 1989   \n",
       "63   Honoring movies released in 1991   \n",
       "64   Honoring movies released in 1992   \n",
       "65   Honoring movies released in 1993   \n",
       "67   Honoring movies released in 1995   \n",
       "70   Honoring movies released in 1998   "
      ]
     },
     "execution_count": 331,
     "metadata": {},
     "output_type": "execute_result"
    }
   ],
   "source": [
    "df_ceremony[df_ceremony['Location']=='Dorothy Chandler Pavilion']"
   ]
  },
  {
   "cell_type": "code",
   "execution_count": null,
   "metadata": {},
   "outputs": [],
   "source": []
  }
 ],
 "metadata": {
  "anaconda-cloud": {},
  "kernelspec": {
   "display_name": "Python 3 (ipykernel)",
   "language": "python",
   "name": "python3"
  },
  "language_info": {
   "codemirror_mode": {
    "name": "ipython",
    "version": 3
   },
   "file_extension": ".py",
   "mimetype": "text/x-python",
   "name": "python",
   "nbconvert_exporter": "python",
   "pygments_lexer": "ipython3",
   "version": "3.9.7"
  }
 },
 "nbformat": 4,
 "nbformat_minor": 1
}
